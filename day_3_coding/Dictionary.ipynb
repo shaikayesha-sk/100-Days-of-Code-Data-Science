{
  "nbformat": 4,
  "nbformat_minor": 0,
  "metadata": {
    "colab": {
      "provenance": []
    },
    "kernelspec": {
      "name": "python3",
      "display_name": "Python 3"
    },
    "language_info": {
      "name": "python"
    }
  },
  "cells": [
    {
      "cell_type": "markdown",
      "source": [],
      "metadata": {
        "id": "yWpq3IizoJ_n"
      }
    },
    {
      "cell_type": "code",
      "execution_count": 1,
      "metadata": {
        "colab": {
          "base_uri": "https://localhost:8080/"
        },
        "id": "qTmrfhaxmn3d",
        "outputId": "90bb24b4-08ad-44c8-bdbf-bbd687e0b104"
      },
      "outputs": [
        {
          "output_type": "stream",
          "name": "stdout",
          "text": [
            "{1: 'gello', 2: 'main', 3: 'partner'}\n"
          ]
        }
      ],
      "source": [
        "d = {1:\"gello\",2:\"main\",3:\"partner\"}\n",
        "print(d)"
      ]
    },
    {
      "cell_type": "code",
      "source": [
        "#Integrated dictionary\n",
        "part = (\"eng\",\"maths\")\n",
        "d = {\"name\":\"ayesha\",\"age\":20,\"subjects\":part}\n",
        "print(d)"
      ],
      "metadata": {
        "colab": {
          "base_uri": "https://localhost:8080/"
        },
        "id": "knv_2dh7nTcT",
        "outputId": "514a56b4-1b7c-43a7-d7b3-b06d25035d4b"
      },
      "execution_count": 2,
      "outputs": [
        {
          "output_type": "stream",
          "name": "stdout",
          "text": [
            "{'name': 'ayesha', 'age': 20, 'subjects': ('eng', 'maths')}\n"
          ]
        }
      ]
    },
    {
      "cell_type": "code",
      "source": [
        "# using dict method to create dictionary\n",
        "t = [(\"name\",\"ayesha\"),(\"age\",29)]\n",
        "dic = dict(t)\n",
        "print(dic)"
      ],
      "metadata": {
        "colab": {
          "base_uri": "https://localhost:8080/"
        },
        "id": "-QY4DHqyotaj",
        "outputId": "78ad38ff-8ef6-4994-af55-958324e762c9"
      },
      "execution_count": 4,
      "outputs": [
        {
          "output_type": "stream",
          "name": "stdout",
          "text": [
            "{'name': 'ayesha', 'age': 29}\n"
          ]
        }
      ]
    },
    {
      "cell_type": "code",
      "source": [
        "t = (1, 2)\n",
        "d = {[1]: 23, t: 34}\n",
        "print(d)\n",
        "\"\"\"t = (1, 2): This line creates a tuple t containing two elements: 1 and 2.\n",
        "\n",
        "d = {[1]: 23, t: 34}:\n",
        "\n",
        "{[1]: 23}: This part of the dictionary tries to use a list [1] as a key. However, lists cannot be used as dictionary keys in Python because they are mutable objects. You'll encounter a TypeError if you attempt to run this code.\n",
        "t: 34: This part of the dictionary is valid. It uses the tuple t as a key with the corresponding value of 34.\"\"\""
      ],
      "metadata": {
        "colab": {
          "base_uri": "https://localhost:8080/",
          "height": 216
        },
        "id": "Dtc8dXawpWAd",
        "outputId": "6dd0b1a5-ebcc-44b8-feea-9cd5db3fa5a0"
      },
      "execution_count": 5,
      "outputs": [
        {
          "output_type": "error",
          "ename": "TypeError",
          "evalue": "unhashable type: 'list'",
          "traceback": [
            "\u001b[0;31m---------------------------------------------------------------------------\u001b[0m",
            "\u001b[0;31mTypeError\u001b[0m                                 Traceback (most recent call last)",
            "\u001b[0;32m<ipython-input-5-3e0a3459451f>\u001b[0m in \u001b[0;36m<cell line: 2>\u001b[0;34m()\u001b[0m\n\u001b[1;32m      1\u001b[0m \u001b[0mt\u001b[0m \u001b[0;34m=\u001b[0m \u001b[0;34m(\u001b[0m\u001b[0;36m1\u001b[0m\u001b[0;34m,\u001b[0m \u001b[0;36m2\u001b[0m\u001b[0;34m)\u001b[0m\u001b[0;34m\u001b[0m\u001b[0;34m\u001b[0m\u001b[0m\n\u001b[0;32m----> 2\u001b[0;31m \u001b[0md\u001b[0m \u001b[0;34m=\u001b[0m \u001b[0;34m{\u001b[0m\u001b[0;34m[\u001b[0m\u001b[0;36m1\u001b[0m\u001b[0;34m]\u001b[0m\u001b[0;34m:\u001b[0m \u001b[0;36m23\u001b[0m\u001b[0;34m,\u001b[0m \u001b[0mt\u001b[0m\u001b[0;34m:\u001b[0m \u001b[0;36m34\u001b[0m\u001b[0;34m}\u001b[0m\u001b[0;34m\u001b[0m\u001b[0;34m\u001b[0m\u001b[0m\n\u001b[0m\u001b[1;32m      3\u001b[0m \u001b[0mprint\u001b[0m\u001b[0;34m(\u001b[0m\u001b[0md\u001b[0m\u001b[0;34m)\u001b[0m\u001b[0;34m\u001b[0m\u001b[0;34m\u001b[0m\u001b[0m\n\u001b[1;32m      4\u001b[0m \"\"\"t = (1, 2): This line creates a tuple t containing two elements: 1 and 2.\n\u001b[1;32m      5\u001b[0m \u001b[0;34m\u001b[0m\u001b[0m\n",
            "\u001b[0;31mTypeError\u001b[0m: unhashable type: 'list'"
          ]
        }
      ]
    },
    {
      "cell_type": "code",
      "source": [
        "# Access the dict values\n",
        "\n",
        "d = {'name':'Sne', 'age':22, 'addr':['Sarud', 'Kop']}\n",
        "print(d['addr'])"
      ],
      "metadata": {
        "colab": {
          "base_uri": "https://localhost:8080/"
        },
        "id": "OJFK3bv6rTql",
        "outputId": "12d2af54-3813-4abf-d581-26adf0fe9b58"
      },
      "execution_count": 6,
      "outputs": [
        {
          "output_type": "stream",
          "name": "stdout",
          "text": [
            "['Sarud', 'Kop']\n"
          ]
        }
      ]
    },
    {
      "cell_type": "code",
      "source": [
        "print(d['age'])"
      ],
      "metadata": {
        "colab": {
          "base_uri": "https://localhost:8080/"
        },
        "id": "nLtV1egxrfSz",
        "outputId": "77df68b5-7f74-4ab8-e2c9-02cab1871833"
      },
      "execution_count": 7,
      "outputs": [
        {
          "output_type": "stream",
          "name": "stdout",
          "text": [
            "22\n"
          ]
        }
      ]
    },
    {
      "cell_type": "code",
      "source": [
        "print(d.items())\n",
        "print(d.keys())\n",
        "print(d.values())"
      ],
      "metadata": {
        "colab": {
          "base_uri": "https://localhost:8080/"
        },
        "id": "rVn0RuEhru0T",
        "outputId": "8e5467ad-aa04-437d-bae0-69e5c0c6887f"
      },
      "execution_count": 8,
      "outputs": [
        {
          "output_type": "stream",
          "name": "stdout",
          "text": [
            "dict_items([('name', 'Sne'), ('age', 22), ('addr', ['Sarud', 'Kop'])])\n",
            "dict_keys(['name', 'age', 'addr'])\n",
            "dict_values(['Sne', 22, ['Sarud', 'Kop']])\n"
          ]
        }
      ]
    },
    {
      "cell_type": "code",
      "source": [
        "for i in d.values():\n",
        "    print(i)"
      ],
      "metadata": {
        "colab": {
          "base_uri": "https://localhost:8080/"
        },
        "id": "h3YOcQ0Br1H9",
        "outputId": "9a7be76e-dbf8-4281-a9d6-47c4bceaae13"
      },
      "execution_count": 9,
      "outputs": [
        {
          "output_type": "stream",
          "name": "stdout",
          "text": [
            "Sne\n",
            "22\n",
            "['Sarud', 'Kop']\n"
          ]
        }
      ]
    },
    {
      "cell_type": "code",
      "source": [
        "for i in d.items():\n",
        "  print(i)"
      ],
      "metadata": {
        "colab": {
          "base_uri": "https://localhost:8080/"
        },
        "id": "dbFZS-DasEYg",
        "outputId": "f5f8ff75-1f84-41e8-d175-be45ea034929"
      },
      "execution_count": 10,
      "outputs": [
        {
          "output_type": "stream",
          "name": "stdout",
          "text": [
            "('name', 'Sne')\n",
            "('age', 22)\n",
            "('addr', ['Sarud', 'Kop'])\n"
          ]
        }
      ]
    },
    {
      "cell_type": "code",
      "source": [
        "for i in d.keys():\n",
        "  print(i)"
      ],
      "metadata": {
        "colab": {
          "base_uri": "https://localhost:8080/"
        },
        "id": "9lfh9sllsLka",
        "outputId": "2aa6c357-4d76-44cd-e9e3-ad67a2d42e75"
      },
      "execution_count": 11,
      "outputs": [
        {
          "output_type": "stream",
          "name": "stdout",
          "text": [
            "name\n",
            "age\n",
            "addr\n"
          ]
        }
      ]
    },
    {
      "cell_type": "code",
      "source": [
        "for i in sorted(d.keys()):\n",
        "  print(i)"
      ],
      "metadata": {
        "colab": {
          "base_uri": "https://localhost:8080/"
        },
        "id": "EbzqNRxisQ5j",
        "outputId": "52bce0b9-101a-40f3-c7f3-e56656a07188"
      },
      "execution_count": 12,
      "outputs": [
        {
          "output_type": "stream",
          "name": "stdout",
          "text": [
            "addr\n",
            "age\n",
            "name\n"
          ]
        }
      ]
    },
    {
      "cell_type": "code",
      "source": [
        "print(id(d['addr']))"
      ],
      "metadata": {
        "colab": {
          "base_uri": "https://localhost:8080/"
        },
        "id": "dnRLhM81siTW",
        "outputId": "a24401a0-33ce-4828-c51e-b88cb7b9916b"
      },
      "execution_count": 14,
      "outputs": [
        {
          "output_type": "stream",
          "name": "stdout",
          "text": [
            "135029624115136\n"
          ]
        }
      ]
    },
    {
      "cell_type": "code",
      "source": [
        "d['Name'] = d['name']\n",
        "print(d)"
      ],
      "metadata": {
        "colab": {
          "base_uri": "https://localhost:8080/"
        },
        "id": "DvpKuU1isznK",
        "outputId": "5a2e5d5c-22a0-4b20-d492-9e7fbb02f790"
      },
      "execution_count": 15,
      "outputs": [
        {
          "output_type": "stream",
          "name": "stdout",
          "text": [
            "{'name': 'Sne', 'age': 22, 'addr': ['Sarud', 'Kop'], 'Name': 'Sne'}\n"
          ]
        }
      ]
    },
    {
      "cell_type": "code",
      "source": [
        "print(id(d['name']))\n",
        "print(id(d['Name']))"
      ],
      "metadata": {
        "colab": {
          "base_uri": "https://localhost:8080/"
        },
        "id": "rl-_irAGs36r",
        "outputId": "0543e6bf-6b01-4cfc-e13f-4ddf6179a7d8"
      },
      "execution_count": 16,
      "outputs": [
        {
          "output_type": "stream",
          "name": "stdout",
          "text": [
            "135029624042224\n",
            "135029624042224\n"
          ]
        }
      ]
    },
    {
      "cell_type": "code",
      "source": [
        "# update() Function\n",
        "d1 = {'name': 'Sne'}\n",
        "d2 = {'age': 21}\n",
        "d3 = {'addr': 'Kop'}\n",
        "\n",
        "d2.update(d1)\n",
        "d1.update(d3)\n",
        "print(d1, d2, d3)"
      ],
      "metadata": {
        "colab": {
          "base_uri": "https://localhost:8080/"
        },
        "id": "oCCL1QJKtHir",
        "outputId": "e6affc63-5777-46fb-9b22-cf2c3d414ed3"
      },
      "execution_count": 17,
      "outputs": [
        {
          "output_type": "stream",
          "name": "stdout",
          "text": [
            "{'name': 'Sne', 'addr': 'Kop'} {'age': 21, 'name': 'Sne'} {'addr': 'Kop'}\n"
          ]
        }
      ]
    },
    {
      "cell_type": "code",
      "source": [
        "# setdefault() Function\n",
        "\n",
        "d = {'name': 'M'}\n",
        "print(d.setdefault('name', 'S'))\n",
        "print(d.setdefault('addr', 'Kop'))\n",
        "print(d.setdefault('sub'))\n",
        "\n",
        "print(d)"
      ],
      "metadata": {
        "colab": {
          "base_uri": "https://localhost:8080/"
        },
        "id": "5yOLO3ndtLoZ",
        "outputId": "81582597-0245-424a-bb43-0a6538312dd2"
      },
      "execution_count": 18,
      "outputs": [
        {
          "output_type": "stream",
          "name": "stdout",
          "text": [
            "M\n",
            "Kop\n",
            "None\n",
            "{'name': 'M', 'addr': 'Kop', 'sub': None}\n"
          ]
        }
      ]
    },
    {
      "cell_type": "code",
      "source": [
        "d = {\"name\":\"ayesha\",\"age\":20,\"addr\":\"khm\"}\n",
        "print(d)\n",
        "\n",
        "d.pop('name')\n",
        "print(d)\n",
        "del d['age']\n",
        "print(d)\n",
        "d.clear()\n",
        "print(d)\n",
        "del d\n",
        "print(d)"
      ],
      "metadata": {
        "colab": {
          "base_uri": "https://localhost:8080/",
          "height": 251
        },
        "id": "g_tQDRPCtWuz",
        "outputId": "9746ba2d-279b-490f-8dbd-80e5329a0426"
      },
      "execution_count": 19,
      "outputs": [
        {
          "output_type": "stream",
          "name": "stdout",
          "text": [
            "{'name': 'ayesha', 'age': 20, 'addr': 'khm'}\n",
            "{'age': 20, 'addr': 'khm'}\n",
            "{'addr': 'khm'}\n",
            "{}\n"
          ]
        },
        {
          "output_type": "error",
          "ename": "NameError",
          "evalue": "name 'd' is not defined",
          "traceback": [
            "\u001b[0;31m---------------------------------------------------------------------------\u001b[0m",
            "\u001b[0;31mNameError\u001b[0m                                 Traceback (most recent call last)",
            "\u001b[0;32m<ipython-input-19-5e4dbb7aa639>\u001b[0m in \u001b[0;36m<cell line: 11>\u001b[0;34m()\u001b[0m\n\u001b[1;32m      9\u001b[0m \u001b[0mprint\u001b[0m\u001b[0;34m(\u001b[0m\u001b[0md\u001b[0m\u001b[0;34m)\u001b[0m\u001b[0;34m\u001b[0m\u001b[0;34m\u001b[0m\u001b[0m\n\u001b[1;32m     10\u001b[0m \u001b[0;32mdel\u001b[0m \u001b[0md\u001b[0m\u001b[0;34m\u001b[0m\u001b[0;34m\u001b[0m\u001b[0m\n\u001b[0;32m---> 11\u001b[0;31m \u001b[0mprint\u001b[0m\u001b[0;34m(\u001b[0m\u001b[0md\u001b[0m\u001b[0;34m)\u001b[0m\u001b[0;34m\u001b[0m\u001b[0;34m\u001b[0m\u001b[0m\n\u001b[0m",
            "\u001b[0;31mNameError\u001b[0m: name 'd' is not defined"
          ]
        }
      ]
    },
    {
      "cell_type": "code",
      "source": [
        "# zip() Function\n",
        "\n",
        "d = {'name': 'Sne', 'age': 21, 'addr': 'Kop'}\n",
        "\n",
        "a = list(d.keys())\n",
        "b = list(d.values())\n",
        "\n",
        "print(a, b)\n",
        "\n",
        "n = dict(zip(a,b))\n",
        "print(n)"
      ],
      "metadata": {
        "colab": {
          "base_uri": "https://localhost:8080/"
        },
        "id": "QFqXuwOSuOIG",
        "outputId": "0435cc60-d811-43c5-ad28-2785f57a5f5a"
      },
      "execution_count": 20,
      "outputs": [
        {
          "output_type": "stream",
          "name": "stdout",
          "text": [
            "['name', 'age', 'addr'] ['Sne', 21, 'Kop']\n",
            "{'name': 'Sne', 'age': 21, 'addr': 'Kop'}\n"
          ]
        }
      ]
    },
    {
      "cell_type": "code",
      "source": [
        "# Easy sorting\n",
        "\n",
        "d = {'name': 'Sne', 'age': '21', 'addr': 'Kop'}\n",
        "print(dict(sorted(d.items(), key = lambda item: item[0])))\n",
        "print(dict(sorted(d.items(), key = lambda item: item[1])))"
      ],
      "metadata": {
        "colab": {
          "base_uri": "https://localhost:8080/"
        },
        "id": "zzxH6N0mzRBm",
        "outputId": "b131a4a4-6c1f-4b6d-d3b0-f97d72f6534e"
      },
      "execution_count": 21,
      "outputs": [
        {
          "output_type": "stream",
          "name": "stdout",
          "text": [
            "{'addr': 'Kop', 'age': '21', 'name': 'Sne'}\n",
            "{'age': '21', 'addr': 'Kop', 'name': 'Sne'}\n"
          ]
        }
      ]
    },
    {
      "cell_type": "code",
      "source": [
        "# from keys helps to spread the same value for the keys\n",
        "d = dict.fromkeys([\"name\",\"age\",\"addr\"],'snehal')\n",
        "print(d)"
      ],
      "metadata": {
        "colab": {
          "base_uri": "https://localhost:8080/"
        },
        "id": "_d9ex9po0BFH",
        "outputId": "4004a75e-ba7c-413a-9425-70a41e20dc94"
      },
      "execution_count": 22,
      "outputs": [
        {
          "output_type": "stream",
          "name": "stdout",
          "text": [
            "{'name': 'snehal', 'age': 'snehal', 'addr': 'snehal'}\n"
          ]
        }
      ]
    },
    {
      "cell_type": "code",
      "source": [
        "keys = ['age', 'addr', 2, 'name']\n",
        "values = [[21], 'Kop', True, 'Man']\n",
        "\n",
        "di = {k:v for (k,v) in zip(keys, values) if type(k)==int}\n",
        "ds = {k:v for (k,v) in zip(keys, values) if type(k)!=int}\n",
        "db = {k:v for (k,v) in zip(keys, values) if type(v)==bool}\n",
        "dl = {k:v for (k,v) in zip(keys, values) if type(v)==list}\n",
        "print(di)\n",
        "print(ds)\n",
        "print(db)\n",
        "print(dl)"
      ],
      "metadata": {
        "colab": {
          "base_uri": "https://localhost:8080/"
        },
        "id": "OOP7syBM011s",
        "outputId": "b7106ed6-5ef4-4323-fa74-9f30f0fde12b"
      },
      "execution_count": 23,
      "outputs": [
        {
          "output_type": "stream",
          "name": "stdout",
          "text": [
            "{2: True}\n",
            "{'age': [21], 'addr': 'Kop', 'name': 'Man'}\n",
            "{2: True}\n",
            "{'age': [21]}\n"
          ]
        }
      ]
    },
    {
      "cell_type": "code",
      "source": [
        "# Dictionary compre from list\n",
        "\n",
        "l = [1,2,3,4,5]\n",
        "dl = {i:i**2 for i in l}\n",
        "print(dl)"
      ],
      "metadata": {
        "colab": {
          "base_uri": "https://localhost:8080/"
        },
        "id": "R8Hofhuk19Z5",
        "outputId": "7d03c539-21a5-4c0e-ef18-63a22721c76d"
      },
      "execution_count": 24,
      "outputs": [
        {
          "output_type": "stream",
          "name": "stdout",
          "text": [
            "{1: 1, 2: 4, 3: 9, 4: 16, 5: 25}\n"
          ]
        }
      ]
    },
    {
      "cell_type": "code",
      "source": [
        "# Dictionary compre from string\n",
        "\n",
        "str = 'SNEHAL'\n",
        "ds = {s:s*3 for s in str}\n",
        "print(ds)"
      ],
      "metadata": {
        "colab": {
          "base_uri": "https://localhost:8080/"
        },
        "id": "LA-SgmBn2QC1",
        "outputId": "1991d9e6-5bc6-4eef-aa48-ba42e297328a"
      },
      "execution_count": 25,
      "outputs": [
        {
          "output_type": "stream",
          "name": "stdout",
          "text": [
            "{'S': 'SSS', 'N': 'NNN', 'E': 'EEE', 'H': 'HHH', 'A': 'AAA', 'L': 'LLL'}\n"
          ]
        }
      ]
    },
    {
      "cell_type": "code",
      "source": [
        "d = {i:i**2 for i in range(10) if i%2==0}\n",
        "print(d)"
      ],
      "metadata": {
        "colab": {
          "base_uri": "https://localhost:8080/"
        },
        "id": "pKYh1sVg2XWT",
        "outputId": "18157465-a7b6-4ca6-e071-26c5af41e045"
      },
      "execution_count": 26,
      "outputs": [
        {
          "output_type": "stream",
          "name": "stdout",
          "text": [
            "{0: 0, 2: 4, 4: 16, 6: 36, 8: 64}\n"
          ]
        }
      ]
    },
    {
      "cell_type": "code",
      "source": [
        "# Nested Dictionary\n",
        "\n",
        "print('Dict with values as lists..')\n",
        "dl = {i:[i*d for d in range(1,11)] for i in range(11, 21)}\n",
        "\n",
        "for (k,v) in dl.items():\n",
        "    print(k, v)"
      ],
      "metadata": {
        "colab": {
          "base_uri": "https://localhost:8080/"
        },
        "id": "HD5l7NM82Yzy",
        "outputId": "7a1e4c5a-3003-4e18-e806-43ee5306c09b"
      },
      "execution_count": 27,
      "outputs": [
        {
          "output_type": "stream",
          "name": "stdout",
          "text": [
            "Dict with values as lists..\n",
            "11 [11, 22, 33, 44, 55, 66, 77, 88, 99, 110]\n",
            "12 [12, 24, 36, 48, 60, 72, 84, 96, 108, 120]\n",
            "13 [13, 26, 39, 52, 65, 78, 91, 104, 117, 130]\n",
            "14 [14, 28, 42, 56, 70, 84, 98, 112, 126, 140]\n",
            "15 [15, 30, 45, 60, 75, 90, 105, 120, 135, 150]\n",
            "16 [16, 32, 48, 64, 80, 96, 112, 128, 144, 160]\n",
            "17 [17, 34, 51, 68, 85, 102, 119, 136, 153, 170]\n",
            "18 [18, 36, 54, 72, 90, 108, 126, 144, 162, 180]\n",
            "19 [19, 38, 57, 76, 95, 114, 133, 152, 171, 190]\n",
            "20 [20, 40, 60, 80, 100, 120, 140, 160, 180, 200]\n"
          ]
        }
      ]
    },
    {
      "cell_type": "code",
      "source": [
        "# Dict with values as strings\n",
        "\n",
        "ds = {i:{d:d*i for d in range(1,5)} for i in 'ABCD'}\n",
        "\n",
        "for (k,v) in ds.items():\n",
        "    print(k, v)"
      ],
      "metadata": {
        "colab": {
          "base_uri": "https://localhost:8080/"
        },
        "id": "GCxbkczD3Kgl",
        "outputId": "dec8c84e-7a30-4ab4-cde6-630b8d745113"
      },
      "execution_count": 28,
      "outputs": [
        {
          "output_type": "stream",
          "name": "stdout",
          "text": [
            "A {1: 'A', 2: 'AA', 3: 'AAA', 4: 'AAAA'}\n",
            "B {1: 'B', 2: 'BB', 3: 'BBB', 4: 'BBBB'}\n",
            "C {1: 'C', 2: 'CC', 3: 'CCC', 4: 'CCCC'}\n",
            "D {1: 'D', 2: 'DD', 3: 'DDD', 4: 'DDDD'}\n"
          ]
        }
      ]
    },
    {
      "cell_type": "code",
      "source": [
        "# Dict Functions - len, any, all, sorted\n",
        "\n",
        "d = {2:'Sv', 0:'Sn', 1:'Kl', 3:'Sh'}\n",
        "e = {}\n",
        "print(len(d))\n",
        "print(any(d))\n",
        "print(any(e))\n",
        "print(all(d))\n",
        "print(all(e))\n",
        "print(sorted(d))\n",
        "print(sorted(d, reverse=True))\n",
        "# len(d): Returns the number of items (key-value pairs) in the dictionary d. In this case, it will return 4 because there are 4 items in d.\n",
        "\n",
        "# any(d): Returns True if any of the keys in dictionary d evaluate to True when converted to a Boolean value. Since the keys are integers and all of them are non-zero, it will return True.\n",
        "\n",
        "# any(e): Returns False because the dictionary e is empty, and there are no items to evaluate.\n",
        "\n",
        "# all(d): Returns True if all the keys in dictionary d evaluate to True when converted to a Boolean value. Since all keys are non-zero integers, it will return True.\n",
        "\n",
        "# all(e): Returns True because the dictionary e is empty, and there are no items to evaluate.\n",
        "\n",
        "# sorted(d): Returns a new list containing all the keys from the dictionary d, sorted in ascending order based on their natural order (in this case, the order of the integer keys). So, the output would be [0, 1, 2, 3].\n",
        "\n",
        "# sorted(d, reverse=True): Returns a new list containing all the keys from the dictionary d, sorted in descending order based on their natural order (in this case, the order of the integer keys). So, the output would be [3, 2, 1, 0]."
      ],
      "metadata": {
        "colab": {
          "base_uri": "https://localhost:8080/"
        },
        "id": "AQ4PkkwN3b9w",
        "outputId": "63066a4a-8547-463a-a660-d3b765835e1b"
      },
      "execution_count": 30,
      "outputs": [
        {
          "output_type": "stream",
          "name": "stdout",
          "text": [
            "4\n",
            "True\n",
            "False\n",
            "False\n",
            "True\n",
            "[0, 1, 2, 3]\n",
            "[3, 2, 1, 0]\n"
          ]
        }
      ]
    }
  ]
}