{
  "nbformat": 4,
  "nbformat_minor": 0,
  "metadata": {
    "colab": {
      "provenance": []
    },
    "kernelspec": {
      "name": "python3",
      "display_name": "Python 3"
    },
    "language_info": {
      "name": "python"
    }
  },
  "cells": [
    {
      "cell_type": "code",
      "execution_count": 1,
      "metadata": {
        "colab": {
          "base_uri": "https://localhost:8080/"
        },
        "id": "dqybCPRefVdi",
        "outputId": "3d2a1488-b33b-47fb-cff8-da1a0cc664f3"
      },
      "outputs": [
        {
          "output_type": "stream",
          "name": "stdout",
          "text": [
            "<class 'tuple'>\n",
            "4\n"
          ]
        }
      ],
      "source": [
        "t = (1,2,3,4)\n",
        "print(type(t))\n",
        "print(len(t))"
      ]
    },
    {
      "cell_type": "code",
      "source": [
        "# min, max and sum\n",
        "\n",
        "t = (1,2,3,4,5,6)\n",
        "print(min(t))\n",
        "print(max(t))\n",
        "print(sum(t))"
      ],
      "metadata": {
        "colab": {
          "base_uri": "https://localhost:8080/"
        },
        "id": "UeqDtivFftft",
        "outputId": "48a46a5f-3d61-4854-9fd0-20230cf5aa72"
      },
      "execution_count": 2,
      "outputs": [
        {
          "output_type": "stream",
          "name": "stdout",
          "text": [
            "1\n",
            "6\n",
            "21\n"
          ]
        }
      ]
    },
    {
      "cell_type": "code",
      "source": [
        "# Indexing and Slicing from the tuple\n",
        "\n",
        "print(t[2])\n",
        "print(t[-3])\n",
        "print(t[1:4])\n",
        "print(t[-4:-1])"
      ],
      "metadata": {
        "colab": {
          "base_uri": "https://localhost:8080/"
        },
        "id": "ByqsjmP7fwED",
        "outputId": "e2d137a2-f5ab-49a0-f011-435457845945"
      },
      "execution_count": 3,
      "outputs": [
        {
          "output_type": "stream",
          "name": "stdout",
          "text": [
            "3\n",
            "4\n",
            "(2, 3, 4)\n",
            "(3, 4, 5)\n"
          ]
        }
      ]
    },
    {
      "cell_type": "code",
      "source": [
        "p = (1,2,3,4,2,3,4,5,2,3,4,2,3,1,3,2)\n",
        "print(p.count(7))\n",
        "print(p.index(2,2,-1))\n",
        "print(p.index(1))"
      ],
      "metadata": {
        "colab": {
          "base_uri": "https://localhost:8080/"
        },
        "id": "9MYwtscWf1eq",
        "outputId": "85bda569-e556-4ce4-8d59-3a44af7f5d15"
      },
      "execution_count": 5,
      "outputs": [
        {
          "output_type": "stream",
          "name": "stdout",
          "text": [
            "0\n",
            "4\n",
            "0\n"
          ]
        }
      ]
    }
  ]
}