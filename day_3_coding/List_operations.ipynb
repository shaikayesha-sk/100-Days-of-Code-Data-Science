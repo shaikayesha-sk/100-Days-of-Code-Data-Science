{
  "nbformat": 4,
  "nbformat_minor": 0,
  "metadata": {
    "colab": {
      "provenance": []
    },
    "kernelspec": {
      "name": "python3",
      "display_name": "Python 3"
    },
    "language_info": {
      "name": "python"
    }
  },
  "cells": [
    {
      "cell_type": "code",
      "execution_count": 2,
      "metadata": {
        "colab": {
          "base_uri": "https://localhost:8080/"
        },
        "id": "n0vrT56eh2XU",
        "outputId": "3a489bfe-b0d3-49f4-f4a5-ff89e273a460"
      },
      "outputs": [
        {
          "output_type": "stream",
          "name": "stdout",
          "text": [
            "[1, 2, 3, 5]\n"
          ]
        }
      ],
      "source": [
        "lst = list([1, 2, 3, 5])\n",
        "print(lst)\n"
      ]
    },
    {
      "cell_type": "code",
      "source": [
        "lst = ['1', '2', '3', '5']  # Assuming lst is a list of strings\n",
        "l = [item.split() for item in lst]  # Split each string in lst\n",
        "print(l)"
      ],
      "metadata": {
        "colab": {
          "base_uri": "https://localhost:8080/"
        },
        "id": "QoSZ_gsoiQ3b",
        "outputId": "55b2483e-77ac-432a-9901-f838a7f2d831"
      },
      "execution_count": 4,
      "outputs": [
        {
          "output_type": "stream",
          "name": "stdout",
          "text": [
            "[['1'], ['2'], ['3'], ['5']]\n"
          ]
        }
      ]
    },
    {
      "cell_type": "code",
      "source": [
        "lst.extend([6,7,8])\n",
        "print(lst)"
      ],
      "metadata": {
        "colab": {
          "base_uri": "https://localhost:8080/"
        },
        "id": "FkIKufn5jOul",
        "outputId": "d2900458-6622-403b-afc4-78f494ac31d1"
      },
      "execution_count": 5,
      "outputs": [
        {
          "output_type": "stream",
          "name": "stdout",
          "text": [
            "['1', '2', '3', '5', 6, 7, 8]\n"
          ]
        }
      ]
    },
    {
      "cell_type": "code",
      "source": [
        "lst.extend((2,78,90))\n",
        "print(lst)"
      ],
      "metadata": {
        "colab": {
          "base_uri": "https://localhost:8080/"
        },
        "id": "wsUQwZpPjjIk",
        "outputId": "cec16483-2ace-4a6a-98f2-bc396bd0dfe2"
      },
      "execution_count": 7,
      "outputs": [
        {
          "output_type": "stream",
          "name": "stdout",
          "text": [
            "['1', '2', '3', '5', 6, 7, 8, 2, 78, 90]\n"
          ]
        }
      ]
    },
    {
      "cell_type": "code",
      "source": [
        "lst.extend([2,78,90]) # extend can be used to extend the list by help of tuples , sets and dictionaries\n",
        "print(lst)"
      ],
      "metadata": {
        "colab": {
          "base_uri": "https://localhost:8080/"
        },
        "id": "k2IDE74_js0Z",
        "outputId": "bfe80104-a00b-4188-e8ba-3ca93047b95e"
      },
      "execution_count": 8,
      "outputs": [
        {
          "output_type": "stream",
          "name": "stdout",
          "text": [
            "['1', '2', '3', '5', 6, 7, 8, 2, 78, 90, 2, 78, 90]\n"
          ]
        }
      ]
    },
    {
      "cell_type": "code",
      "source": [
        "lst.insert(1, [0,0])\n",
        "print(lst)"
      ],
      "metadata": {
        "colab": {
          "base_uri": "https://localhost:8080/"
        },
        "id": "FQwgE1AFj9KO",
        "outputId": "26533fa0-b116-456a-f2f5-08b791fe9771"
      },
      "execution_count": 9,
      "outputs": [
        {
          "output_type": "stream",
          "name": "stdout",
          "text": [
            "['1', [0, 0], '2', '3', '5', 6, 7, 8, 2, 78, 90, 2, 78, 90]\n"
          ]
        }
      ]
    },
    {
      "cell_type": "code",
      "source": [
        "d = [2,3,4,5,6,7,3,5,6,3]\n",
        "print(d)\n",
        "\n",
        "d.remove(3)\n",
        "print(d)"
      ],
      "metadata": {
        "colab": {
          "base_uri": "https://localhost:8080/"
        },
        "id": "PfuQbEApkGAr",
        "outputId": "39539df3-ffc8-46d0-a6bb-39398563fd63"
      },
      "execution_count": 10,
      "outputs": [
        {
          "output_type": "stream",
          "name": "stdout",
          "text": [
            "[2, 3, 4, 5, 6, 7, 3, 5, 6, 3]\n",
            "[2, 4, 5, 6, 7, 3, 5, 6, 3]\n"
          ]
        }
      ]
    },
    {
      "cell_type": "code",
      "source": [
        "d = [0,9,8]*5\n",
        "print(d)"
      ],
      "metadata": {
        "colab": {
          "base_uri": "https://localhost:8080/"
        },
        "id": "bygDzURWkNMz",
        "outputId": "ff03e149-2d6a-42ff-9a85-d0fed89d80da"
      },
      "execution_count": 11,
      "outputs": [
        {
          "output_type": "stream",
          "name": "stdout",
          "text": [
            "[0, 9, 8, 0, 9, 8, 0, 9, 8, 0, 9, 8, 0, 9, 8]\n"
          ]
        }
      ]
    },
    {
      "cell_type": "code",
      "source": [
        "f = d.copy()\n",
        "print(f)\n",
        "print(f==d)\n",
        "print(f is d)"
      ],
      "metadata": {
        "colab": {
          "base_uri": "https://localhost:8080/"
        },
        "id": "nzDHz6kikP6P",
        "outputId": "9abd6830-7b80-4724-cdf3-2de33c7eefdc"
      },
      "execution_count": 12,
      "outputs": [
        {
          "output_type": "stream",
          "name": "stdout",
          "text": [
            "[0, 9, 8, 0, 9, 8, 0, 9, 8, 0, 9, 8, 0, 9, 8]\n",
            "True\n",
            "False\n"
          ]
        }
      ]
    },
    {
      "cell_type": "code",
      "source": [
        "f = [1,2,3]\n",
        "c = f\n",
        "print(c is f)"
      ],
      "metadata": {
        "colab": {
          "base_uri": "https://localhost:8080/"
        },
        "id": "RLCoC3jikg71",
        "outputId": "b4d3d233-9a99-4fa2-eee6-5f5296600328"
      },
      "execution_count": 13,
      "outputs": [
        {
          "output_type": "stream",
          "name": "stdout",
          "text": [
            "True\n"
          ]
        }
      ]
    },
    {
      "cell_type": "code",
      "source": [
        "f = d.copy()\n",
        "print(f is d)"
      ],
      "metadata": {
        "colab": {
          "base_uri": "https://localhost:8080/"
        },
        "id": "oErfAP4Rkstx",
        "outputId": "ddfe339f-e486-486a-c3a7-d166384e4f71"
      },
      "execution_count": 14,
      "outputs": [
        {
          "output_type": "stream",
          "name": "stdout",
          "text": [
            "False\n"
          ]
        }
      ]
    },
    {
      "cell_type": "code",
      "source": [
        "# count()\n",
        "\n",
        "t = [1,2,3,2,4,3,5,6]\n",
        "print(t.count(1))\n",
        "print(t.count(2))\n",
        "print(t.count(3))"
      ],
      "metadata": {
        "colab": {
          "base_uri": "https://localhost:8080/"
        },
        "id": "dQdW0BBvkwJz",
        "outputId": "84f9ad23-c33b-428f-f03a-cb131c75aabb"
      },
      "execution_count": 15,
      "outputs": [
        {
          "output_type": "stream",
          "name": "stdout",
          "text": [
            "1\n",
            "2\n",
            "2\n"
          ]
        }
      ]
    },
    {
      "cell_type": "code",
      "source": [
        "d = [1, 2, 3, 4, 5]\n",
        "print(sum(d))\n",
        "print(max(d))\n",
        "print(min(d))"
      ],
      "metadata": {
        "colab": {
          "base_uri": "https://localhost:8080/"
        },
        "id": "KIBnn7NZkxSM",
        "outputId": "68b4e8cf-4ef5-44a4-fa2a-896144cedb2c"
      },
      "execution_count": 16,
      "outputs": [
        {
          "output_type": "stream",
          "name": "stdout",
          "text": [
            "15\n",
            "5\n",
            "1\n"
          ]
        }
      ]
    },
    {
      "cell_type": "code",
      "source": [
        "t = [True, False, True, False]\n",
        "q = ['', '', '', False, 0, [0]]\n",
        "print(any(t))\n",
        "print(any(q))\n",
        "# For list t, any(t) checks if there's at least one True element in the list. Since there are two True values in the list, it returns True.\n",
        "# For list q, any(q) checks if there's at least one truthy element in the list. In Python, empty strings '', False, integer 0, and an empty list [] evaluate to False in a boolean context. So, any(q) returns False."
      ],
      "metadata": {
        "colab": {
          "base_uri": "https://localhost:8080/"
        },
        "id": "L8884tROlAPN",
        "outputId": "9286f875-0bca-4c15-c1a8-3d76a6a2d0fd"
      },
      "execution_count": 17,
      "outputs": [
        {
          "output_type": "stream",
          "name": "stdout",
          "text": [
            "True\n",
            "True\n"
          ]
        }
      ]
    },
    {
      "cell_type": "code",
      "source": [
        "d = [True, True, True]\n",
        "print(all(d))\n",
        "\n",
        "f = ['f', [0]]\n",
        "print(all(f))\n",
        "\n",
        "print(all([]))"
      ],
      "metadata": {
        "colab": {
          "base_uri": "https://localhost:8080/"
        },
        "id": "D_SLNl80lGCz",
        "outputId": "8295630e-68f4-4937-bd01-3339ae9a56b6"
      },
      "execution_count": 18,
      "outputs": [
        {
          "output_type": "stream",
          "name": "stdout",
          "text": [
            "True\n",
            "True\n",
            "True\n"
          ]
        }
      ]
    },
    {
      "cell_type": "code",
      "source": [
        "c = [1,2,3,4,5]\n",
        "\n",
        "print(list(enumerate(c)))"
      ],
      "metadata": {
        "colab": {
          "base_uri": "https://localhost:8080/"
        },
        "id": "MjNkp5zNlbuE",
        "outputId": "4fffc243-3fb1-499d-ca1e-71756b55366b"
      },
      "execution_count": 19,
      "outputs": [
        {
          "output_type": "stream",
          "name": "stdout",
          "text": [
            "[(0, 1), (1, 2), (2, 3), (3, 4), (4, 5)]\n"
          ]
        }
      ]
    },
    {
      "cell_type": "code",
      "source": [
        "for i, t in enumerate(d, 1):\n",
        "    print(i, t)"
      ],
      "metadata": {
        "colab": {
          "base_uri": "https://localhost:8080/"
        },
        "id": "BlPrF2vJlf75",
        "outputId": "1ba8159a-4d12-4205-c21e-725df20e296e"
      },
      "execution_count": 20,
      "outputs": [
        {
          "output_type": "stream",
          "name": "stdout",
          "text": [
            "1 True\n",
            "2 True\n",
            "3 True\n"
          ]
        }
      ]
    },
    {
      "cell_type": "code",
      "source": [
        "# List comprehenstion\n",
        "\n",
        "d = [i**2 for i in range(5)]\n",
        "print(d)"
      ],
      "metadata": {
        "colab": {
          "base_uri": "https://localhost:8080/"
        },
        "id": "YhkTveVAlhT4",
        "outputId": "9c882798-13e4-41f7-97f0-f8b7e72e727f"
      },
      "execution_count": 21,
      "outputs": [
        {
          "output_type": "stream",
          "name": "stdout",
          "text": [
            "[0, 1, 4, 9, 16]\n"
          ]
        }
      ]
    }
  ]
}