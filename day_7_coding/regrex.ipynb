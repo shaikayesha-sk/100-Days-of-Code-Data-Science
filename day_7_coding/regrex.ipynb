{
  "nbformat": 4,
  "nbformat_minor": 0,
  "metadata": {
    "colab": {
      "provenance": []
    },
    "kernelspec": {
      "name": "python3",
      "display_name": "Python 3"
    },
    "language_info": {
      "name": "python"
    }
  },
  "cells": [
    {
      "cell_type": "code",
      "execution_count": 5,
      "metadata": {
        "colab": {
          "base_uri": "https://localhost:8080/"
        },
        "id": "M5vKmMpi7ecs",
        "outputId": "d33eac62-3a44-4ca5-a2cd-cd613157aecd"
      },
      "outputs": [
        {
          "output_type": "stream",
          "name": "stdout",
          "text": [
            "Match found: y\n"
          ]
        }
      ],
      "source": [
        "import re\n",
        "\n",
        "text = \"ayesha\"\n",
        "pattern = 'y'\n",
        "match = re.search(pattern,text)\n",
        "\n",
        "if match:\n",
        "    print(\"Match found:\", match.group())\n",
        "else:\n",
        "    print(\"Not found\")\n"
      ]
    },
    {
      "cell_type": "code",
      "source": [
        "import re\n",
        "\n",
        "text = \"ayesha\"\n",
        "pattern = '[aeiou]'\n",
        "match = re.search(pattern,text)\n",
        "\n",
        "if match:\n",
        "    print(\"Match found:\", match.group())\n",
        "else:\n",
        "    print(\"Not found\")"
      ],
      "metadata": {
        "colab": {
          "base_uri": "https://localhost:8080/"
        },
        "id": "twB5c0Dy7_BR",
        "outputId": "5d898f56-c031-405b-8426-1516bd2c14b7"
      },
      "execution_count": 6,
      "outputs": [
        {
          "output_type": "stream",
          "name": "stdout",
          "text": [
            "Match found: a\n"
          ]
        }
      ]
    },
    {
      "cell_type": "code",
      "source": [
        "import re\n",
        "\n",
        "text = \"I am ashu\"\n",
        "match = re.search(r'am', text)\n",
        "\n",
        "print(\"start index:\", match.start())\n",
        "print(\"end index:\", match.end())\n"
      ],
      "metadata": {
        "colab": {
          "base_uri": "https://localhost:8080/"
        },
        "id": "VX3VxsWV9c5l",
        "outputId": "3785dae5-db85-487e-f11a-aef5d0d0756c"
      },
      "execution_count": 7,
      "outputs": [
        {
          "output_type": "stream",
          "name": "stdout",
          "text": [
            "start index: 2\n",
            "end index: 4\n"
          ]
        }
      ]
    },
    {
      "cell_type": "code",
      "source": [
        "import re\n",
        "\n",
        "s = ' I Snehal Sanjay Mankar from Sarud'\n",
        "pattern = '[aeiou]'\n",
        "matches = re.findall(pattern, s)  # Changed re_obj.findall to re.findall\n",
        "print(matches)\n"
      ],
      "metadata": {
        "colab": {
          "base_uri": "https://localhost:8080/"
        },
        "id": "UzNLyS4i-M7h",
        "outputId": "fba7a230-c1f5-4c70-ddf7-db75cc05b61f"
      },
      "execution_count": 8,
      "outputs": [
        {
          "output_type": "stream",
          "name": "stdout",
          "text": [
            "['e', 'a', 'a', 'a', 'a', 'a', 'o', 'a', 'u']\n"
          ]
        }
      ]
    },
    {
      "cell_type": "code",
      "source": [
        "s1 = 'I love Python'\n",
        "print(re.search('Python', s1))\n",
        "print(re.match('I l', s1))"
      ],
      "metadata": {
        "colab": {
          "base_uri": "https://localhost:8080/"
        },
        "id": "xum6JOIp-sri",
        "outputId": "1dec019d-3717-4fdb-e14c-45eb035710d9"
      },
      "execution_count": 9,
      "outputs": [
        {
          "output_type": "stream",
          "name": "stdout",
          "text": [
            "<re.Match object; span=(7, 13), match='Python'>\n",
            "<re.Match object; span=(0, 3), match='I l'>\n"
          ]
        }
      ]
    },
    {
      "cell_type": "code",
      "source": [
        "s = 'ab abb abbb aabb ab aaab aaabb ab'\n",
        "print(re.fullmatch(' ab ', s))\n",
        "print(re.fullmatch('ab abb abbb aabb ab aaab aaabb ab', s))"
      ],
      "metadata": {
        "colab": {
          "base_uri": "https://localhost:8080/"
        },
        "id": "QXbTGwSm-yIO",
        "outputId": "556547f0-cb3b-4f16-caa5-9369b4555c48"
      },
      "execution_count": 10,
      "outputs": [
        {
          "output_type": "stream",
          "name": "stdout",
          "text": [
            "None\n",
            "<re.Match object; span=(0, 33), match='ab abb abbb aabb ab aaab aaabb ab'>\n"
          ]
        }
      ]
    },
    {
      "cell_type": "code",
      "source": [
        "s = 'a aa aaa abaa aabaa'\n",
        "res = re.findall('aa', s)\n",
        "print(res)"
      ],
      "metadata": {
        "colab": {
          "base_uri": "https://localhost:8080/"
        },
        "id": "CaHsXKU--4B0",
        "outputId": "54c653b0-9aa5-404a-fbd4-456412af4b88"
      },
      "execution_count": 11,
      "outputs": [
        {
          "output_type": "stream",
          "name": "stdout",
          "text": [
            "['aa', 'aa', 'aa', 'aa', 'aa']\n"
          ]
        }
      ]
    },
    {
      "cell_type": "markdown",
      "source": [
        "re.split():"
      ],
      "metadata": {
        "id": "TkK-8DCuAgoL"
      }
    },
    {
      "cell_type": "code",
      "source": [
        "s = 'I am Snehal Mankar'\n",
        "print(re.split(' ', s))\n",
        "print(re.split('\\s', s))\n",
        "print(re.split('\\s', s, maxsplit=2))"
      ],
      "metadata": {
        "colab": {
          "base_uri": "https://localhost:8080/"
        },
        "id": "Z9vz2jSlAhGq",
        "outputId": "082f7659-1748-4968-fd60-b106a5c07eba"
      },
      "execution_count": 12,
      "outputs": [
        {
          "output_type": "stream",
          "name": "stdout",
          "text": [
            "['I', 'am', 'Snehal', 'Mankar']\n",
            "['I', 'am', 'Snehal', 'Mankar']\n",
            "['I', 'am', 'Snehal Mankar']\n"
          ]
        }
      ]
    },
    {
      "cell_type": "markdown",
      "source": [
        "re.sub():"
      ],
      "metadata": {
        "id": "Vy6VTdk7Alzc"
      }
    },
    {
      "cell_type": "code",
      "source": [
        "s = 'I am Snehal Mankar'\n",
        "print(re.sub('\\s', '##', s))\n",
        "print(re.sub('\\s', '##', s, count=1))\n",
        "print(s)"
      ],
      "metadata": {
        "colab": {
          "base_uri": "https://localhost:8080/"
        },
        "id": "pqOWPEClAmUy",
        "outputId": "edce8692-fb56-43db-ec87-f9fe2582c28f"
      },
      "execution_count": 13,
      "outputs": [
        {
          "output_type": "stream",
          "name": "stdout",
          "text": [
            "I##am##Snehal##Mankar\n",
            "I##am Snehal Mankar\n",
            "I am Snehal Mankar\n"
          ]
        }
      ]
    },
    {
      "cell_type": "markdown",
      "source": [
        "re.subn():"
      ],
      "metadata": {
        "id": "0S-CjXGCAx6c"
      }
    },
    {
      "cell_type": "code",
      "source": [
        "import re\n",
        "\n",
        "s = 'I am Snehal Mankar'\n",
        "print(re.subn('\\s', '00', s))\n",
        "print(re.subn('\\s', '00', s, count=1))"
      ],
      "metadata": {
        "id": "dZey0FppAxpA"
      },
      "execution_count": null,
      "outputs": []
    },
    {
      "cell_type": "markdown",
      "source": [
        "re.escape()"
      ],
      "metadata": {
        "id": "ueNOl14KA9MD"
      }
    },
    {
      "cell_type": "code",
      "source": [
        "import re\n",
        "\n",
        "pattern = 'Snehal Sanjay Mankar'\n",
        "\n",
        "result = re.escape(pattern)\n",
        "\n",
        "print(result)"
      ],
      "metadata": {
        "colab": {
          "base_uri": "https://localhost:8080/"
        },
        "id": "rW2UTHGKA97_",
        "outputId": "4624e641-64cd-4a30-acbf-adda38c57000"
      },
      "execution_count": 14,
      "outputs": [
        {
          "output_type": "stream",
          "name": "stdout",
          "text": [
            "Snehal\\ Sanjay\\ Mankar\n"
          ]
        }
      ]
    }
  ]
}