{
  "nbformat": 4,
  "nbformat_minor": 0,
  "metadata": {
    "colab": {
      "provenance": []
    },
    "kernelspec": {
      "name": "python3",
      "display_name": "Python 3"
    },
    "language_info": {
      "name": "python"
    }
  },
  "cells": [
    {
      "cell_type": "code",
      "execution_count": 1,
      "metadata": {
        "colab": {
          "base_uri": "https://localhost:8080/"
        },
        "id": "qEA0XTcah59P",
        "outputId": "a6c115c5-f83c-4832-bf73-84901eaf6f7c"
      },
      "outputs": [
        {
          "output_type": "stream",
          "name": "stdout",
          "text": [
            "Hello\n"
          ]
        }
      ],
      "source": [
        "i = 10\n",
        "while i == 10:\n",
        "  print(\"Hello\")\n",
        "  i = i+1"
      ]
    },
    {
      "cell_type": "markdown",
      "source": [
        "While loop with else block"
      ],
      "metadata": {
        "id": "Um8Lo8fQiheD"
      }
    },
    {
      "cell_type": "markdown",
      "source": [],
      "metadata": {
        "id": "fGdu4PBviQrE"
      }
    },
    {
      "cell_type": "code",
      "source": [
        "i = 10\n",
        "while i == 10:\n",
        "  print(\"Hello\")\n",
        "  i = i+1\n",
        "else:\n",
        "    print(\"end\")"
      ],
      "metadata": {
        "colab": {
          "base_uri": "https://localhost:8080/"
        },
        "id": "iqFM76ssikLe",
        "outputId": "f95b5a2c-0d71-49a7-924c-ebb7c721f761"
      },
      "execution_count": 3,
      "outputs": [
        {
          "output_type": "stream",
          "name": "stdout",
          "text": [
            "Hello\n",
            "end\n"
          ]
        }
      ]
    },
    {
      "cell_type": "markdown",
      "source": [
        "for Loop"
      ],
      "metadata": {
        "id": "_vZmpFi2jVJj"
      }
    },
    {
      "cell_type": "code",
      "source": [
        "for i in range(1,5):\n",
        "  print(i)"
      ],
      "metadata": {
        "colab": {
          "base_uri": "https://localhost:8080/"
        },
        "id": "cDg8Iw4vjGRv",
        "outputId": "b0d7c20d-001c-4519-e103-4a6e226d9d8c"
      },
      "execution_count": 6,
      "outputs": [
        {
          "output_type": "stream",
          "name": "stdout",
          "text": [
            "1\n",
            "2\n",
            "3\n",
            "4\n"
          ]
        }
      ]
    },
    {
      "cell_type": "markdown",
      "source": [
        "list, tuple, set, string and dict iteration using loop"
      ],
      "metadata": {
        "id": "CrxIohfgjjhn"
      }
    },
    {
      "cell_type": "code",
      "source": [
        "print('\\nList Iteration')\n",
        "lst = [1,2,3,4]\n",
        "for i in lst:\n",
        "    print(i, end=' ')\n",
        "print()\n",
        "for i in range(len(lst)):\n",
        "    print(lst[i], end=' ')\n",
        "print()\n",
        "for i,e in enumerate(lst):\n",
        "    print(i,e)\n",
        "    # 2. Tuple Iteration\n",
        "print('\\nTuple Iteration')\n",
        "t = (6,7,8,9)\n",
        "for i in t:\n",
        "    print(i, end=' ')\n",
        "print()\n",
        "for i in range(len(t)):\n",
        "    print(t[i], end=' ')\n",
        "print()\n",
        "for i,e in enumerate(t):\n",
        "    print(i,e)\n",
        "print('\\nSet Iteration')\n",
        "st = {11,12,13,14,12,14,12,11,13,14}\n",
        "for i in st:\n",
        "    print(i, end=' ')\n",
        "print()\n",
        "\n",
        "# 4. Dictionary Iteration\n",
        "print('\\nDictionary Iteration')\n",
        "d = {1:11,2:22,3:33,4:44}\n",
        "for i in d.keys():\n",
        "    print(i, end=' ')\n",
        "print()\n",
        "for i in d.values():\n",
        "    print(i, end=' ')\n",
        "print()\n",
        "for i in d.items():\n",
        "    print(i, end=' ')\n",
        "print()\n",
        "for i in d.keys():\n",
        "    print(i,':',d[i])\n",
        "print()\n",
        "# 5. String Iteration\n",
        "print('\\nString Iteration')\n",
        "sg = 'Snehal'\n",
        "for i in sg:\n",
        "    print(i, end=' ')\n",
        "print()\n",
        "for i in range(len(sg)):\n",
        "    print(sg[i], end=' ')"
      ],
      "metadata": {
        "colab": {
          "base_uri": "https://localhost:8080/"
        },
        "id": "TXp4cM2zjnHk",
        "outputId": "1f866f32-7aaa-4a23-8422-5a8ad2dcb05f"
      },
      "execution_count": 8,
      "outputs": [
        {
          "output_type": "stream",
          "name": "stdout",
          "text": [
            "\n",
            "List Iteration\n",
            "1 2 3 4 \n",
            "1 2 3 4 \n",
            "0 1\n",
            "1 2\n",
            "2 3\n",
            "3 4\n",
            "\n",
            "Tuple Iteration\n",
            "6 7 8 9 \n",
            "6 7 8 9 \n",
            "0 6\n",
            "1 7\n",
            "2 8\n",
            "3 9\n",
            "\n",
            "Set Iteration\n",
            "11 12 13 14 \n",
            "\n",
            "Dictionary Iteration\n",
            "1 2 3 4 \n",
            "11 22 33 44 \n",
            "(1, 11) (2, 22) (3, 33) (4, 44) \n",
            "1 : 11\n",
            "2 : 22\n",
            "3 : 33\n",
            "4 : 44\n",
            "\n",
            "\n",
            "String Iteration\n",
            "S n e h a l \n",
            "S n e h a l "
          ]
        }
      ]
    },
    {
      "cell_type": "code",
      "source": [
        " # Nested loops\n",
        "\n",
        "for i in range(1,6):\n",
        "    for j in range(i):\n",
        "        print('*', end=' ')\n",
        "    print()"
      ],
      "metadata": {
        "colab": {
          "base_uri": "https://localhost:8080/"
        },
        "id": "8BKui0dpnDIm",
        "outputId": "7afd62cc-5d91-4955-e121-bb1b4215c8fa"
      },
      "execution_count": 12,
      "outputs": [
        {
          "output_type": "stream",
          "name": "stdout",
          "text": [
            "* \n",
            "* * \n",
            "* * * \n",
            "* * * * \n",
            "* * * * * \n"
          ]
        }
      ]
    },
    {
      "cell_type": "markdown",
      "source": [
        "Looping control statements\n"
      ],
      "metadata": {
        "id": "eqzDz_rRnaGH"
      }
    },
    {
      "cell_type": "code",
      "source": [
        "for i in range(1,11):\n",
        "    if i%2==1:\n",
        "        continue\n",
        "    print(i)"
      ],
      "metadata": {
        "colab": {
          "base_uri": "https://localhost:8080/"
        },
        "id": "vmXaTFYwnbHh",
        "outputId": "304a2ab9-1b97-47d1-d665-3000dc7ee0d1"
      },
      "execution_count": 13,
      "outputs": [
        {
          "output_type": "stream",
          "name": "stdout",
          "text": [
            "2\n",
            "4\n",
            "6\n",
            "8\n",
            "10\n"
          ]
        }
      ]
    },
    {
      "cell_type": "code",
      "source": [
        "for i in range(1,11):\n",
        "    if i%5==0:\n",
        "        break\n",
        "    print(i)"
      ],
      "metadata": {
        "colab": {
          "base_uri": "https://localhost:8080/"
        },
        "id": "b1I3wcg7ngDV",
        "outputId": "a58e9db3-61c2-47e2-ae36-eee87edf91b1"
      },
      "execution_count": 14,
      "outputs": [
        {
          "output_type": "stream",
          "name": "stdout",
          "text": [
            "1\n",
            "2\n",
            "3\n",
            "4\n"
          ]
        }
      ]
    },
    {
      "cell_type": "code",
      "source": [
        "for i in range(5):\n",
        "    pass\n",
        "\n",
        "print('Nothing done')"
      ],
      "metadata": {
        "colab": {
          "base_uri": "https://localhost:8080/"
        },
        "id": "fNMGUIy6nmOH",
        "outputId": "16718157-08eb-4621-b547-b3b7e789cdcc"
      },
      "execution_count": 15,
      "outputs": [
        {
          "output_type": "stream",
          "name": "stdout",
          "text": [
            "Nothing done\n"
          ]
        }
      ]
    }
  ]
}