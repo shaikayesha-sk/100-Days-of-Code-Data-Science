{
  "nbformat": 4,
  "nbformat_minor": 0,
  "metadata": {
    "colab": {
      "provenance": []
    },
    "kernelspec": {
      "name": "python3",
      "display_name": "Python 3"
    },
    "language_info": {
      "name": "python"
    }
  },
  "cells": [
    {
      "cell_type": "code",
      "execution_count": null,
      "metadata": {
        "colab": {
          "base_uri": "https://localhost:8080/"
        },
        "id": "JpP5a6NgWQyY",
        "outputId": "4d2c27cc-d887-47a4-f5c9-c4ee235e3131"
      },
      "outputs": [
        {
          "output_type": "stream",
          "name": "stdout",
          "text": [
            "Hello\n"
          ]
        }
      ],
      "source": [
        "x = 19\n",
        "if x >= 19:\n",
        " print(\"Hello\")"
      ]
    },
    {
      "cell_type": "markdown",
      "source": [
        "If-else statement"
      ],
      "metadata": {
        "id": "miK-7jsrWZSG"
      }
    },
    {
      "cell_type": "code",
      "source": [
        "x = 0\n",
        "if x >= 19:\n",
        " print(\"Hello\")\n",
        "else:\n",
        "  print(\"Check condition once\")"
      ],
      "metadata": {
        "colab": {
          "base_uri": "https://localhost:8080/"
        },
        "id": "FUfDsJ57WfnT",
        "outputId": "9c91b4b8-a457-4e13-b8a9-b3e6ed6ae7c8"
      },
      "execution_count": null,
      "outputs": [
        {
          "output_type": "stream",
          "name": "stdout",
          "text": [
            "Check condition once\n"
          ]
        }
      ]
    },
    {
      "cell_type": "markdown",
      "source": [
        "Nested-if statements:"
      ],
      "metadata": {
        "id": "sN-PrpwHWt1_"
      }
    },
    {
      "cell_type": "code",
      "source": [
        "marks = int(input(\"Enter marks \"))\n",
        "if marks >= 90:\n",
        "  print(\"Grade A\")\n",
        "elif marks >= 80:\n",
        "  print(\"Grade B\")\n",
        "elif marks >= 70:\n",
        "    print(\"Grade C\")\n",
        "elif marks >= 60:\n",
        "    print(\"Grade D\")\n",
        "elif marks >= 50:\n",
        "    print(\"Grade E\")\n",
        "else :\n",
        "      print(\"Sorry! You are fail\")\n",
        "\n"
      ],
      "metadata": {
        "colab": {
          "base_uri": "https://localhost:8080/"
        },
        "id": "3lyfDL_rW4hm",
        "outputId": "97d4c614-9bee-4de8-9ef9-88646d1bb9d0"
      },
      "execution_count": null,
      "outputs": [
        {
          "output_type": "stream",
          "name": "stdout",
          "text": [
            "Enter marks 23\n",
            "Sorry! You are fail\n"
          ]
        }
      ]
    },
    {
      "cell_type": "markdown",
      "source": [
        "Short hand if statement:"
      ],
      "metadata": {
        "id": "m_1DwSwIYPam"
      }
    },
    {
      "cell_type": "code",
      "source": [
        "i = 10\n",
        "if i<15: print('i less than 15..')"
      ],
      "metadata": {
        "colab": {
          "base_uri": "https://localhost:8080/"
        },
        "id": "RTjJAxSJYTgC",
        "outputId": "57586f8e-4751-457d-9aa9-7945d34b6fd5"
      },
      "execution_count": null,
      "outputs": [
        {
          "output_type": "stream",
          "name": "stdout",
          "text": [
            "i less than 15..\n"
          ]
        }
      ]
    },
    {
      "cell_type": "code",
      "source": [
        "i = 10\n",
        "print(True) if i==10 else print(False)"
      ],
      "metadata": {
        "id": "USBswHBqZtlD",
        "colab": {
          "base_uri": "https://localhost:8080/"
        },
        "outputId": "28792c24-653c-4301-c6ce-1841841a8897"
      },
      "execution_count": 8,
      "outputs": [
        {
          "output_type": "stream",
          "name": "stdout",
          "text": [
            "True\n"
          ]
        }
      ]
    },
    {
      "cell_type": "markdown",
      "source": [
        "Match- Case Statement"
      ],
      "metadata": {
        "id": "i832Wc19dFlB"
      }
    },
    {
      "cell_type": "code",
      "source": [
        "flag = int(input(\"Enter number\"))\n",
        "match flag:\n",
        "    case 5 :\n",
        "        print('Flag = 5')\n",
        "    case 10 :\n",
        "        print('Flag = 10')\n",
        "    case 15 :\n",
        "        print('Flag = 15')\n",
        "    case 20 :\n",
        "        print('Flag = 20')\n",
        "    case _ :\n",
        "        print('Not matched')"
      ],
      "metadata": {
        "colab": {
          "base_uri": "https://localhost:8080/"
        },
        "id": "hMqOWCGLdI3b",
        "outputId": "ad8f4520-a6e9-4a0d-deb3-27de4d87d697"
      },
      "execution_count": 9,
      "outputs": [
        {
          "output_type": "stream",
          "name": "stdout",
          "text": [
            "Enter number12\n",
            "Not matched\n"
          ]
        }
      ]
    },
    {
      "cell_type": "markdown",
      "source": [
        "Match OR Statement"
      ],
      "metadata": {
        "id": "zZ-UXBb_dwuv"
      }
    },
    {
      "cell_type": "code",
      "source": [
        "\n",
        "role = 'Admin'\n",
        "\n",
        "match role:\n",
        "    case 'Emp' | 'User':\n",
        "        print('Not allowed access..')\n",
        "    case 'Admin':\n",
        "        print('Allowed access to Admin..')\n",
        "    case _ :\n",
        "        print('No role..')"
      ],
      "metadata": {
        "colab": {
          "base_uri": "https://localhost:8080/"
        },
        "id": "1Jd3VGmzdvvv",
        "outputId": "3cabde8d-a97c-4daa-c218-e38741e23c63"
      },
      "execution_count": 10,
      "outputs": [
        {
          "output_type": "stream",
          "name": "stdout",
          "text": [
            "Allowed access to Admin..\n"
          ]
        }
      ]
    },
    {
      "cell_type": "code",
      "source": [
        "# Use of if in match-case statement\n",
        "\n",
        "inp = 'Emp'\n",
        "roles = ['User', 'Admin']\n",
        "\n",
        "match inp:\n",
        "    case 'Emp' if inp in roles:\n",
        "        print('Access..')\n",
        "    case 'Admin' if inp in roles:\n",
        "        print('Access..')\n",
        "    case _ :\n",
        "        print('No role..')"
      ],
      "metadata": {
        "colab": {
          "base_uri": "https://localhost:8080/"
        },
        "id": "5zLyHU8jfNgU",
        "outputId": "14b2efe9-5610-4da8-bc2f-a678c9c69380"
      },
      "execution_count": 11,
      "outputs": [
        {
          "output_type": "stream",
          "name": "stdout",
          "text": [
            "No role..\n"
          ]
        }
      ]
    },
    {
      "cell_type": "code",
      "source": [
        "# Match the sequence patern\n",
        "def matchSeq(lst):\n",
        "    match lst:\n",
        "        case ['a']:\n",
        "            print('Only 1 char : a')\n",
        "        case _:\n",
        "            print('No match')\n",
        ""
      ],
      "metadata": {
        "id": "izxwYBedfl8n"
      },
      "execution_count": 12,
      "outputs": []
    },
    {
      "cell_type": "markdown",
      "source": [],
      "metadata": {
        "id": "XGgQmihvZq_f"
      }
    },
    {
      "cell_type": "code",
      "source": [
        "matchSeq(['a'])"
      ],
      "metadata": {
        "colab": {
          "base_uri": "https://localhost:8080/"
        },
        "id": "XQR53wQ9gJvA",
        "outputId": "0fa43ba1-8abb-4e46-d401-0c731e53504d"
      },
      "execution_count": 18,
      "outputs": [
        {
          "output_type": "stream",
          "name": "stdout",
          "text": [
            "Only 1 char : a\n"
          ]
        }
      ]
    }
  ]
}