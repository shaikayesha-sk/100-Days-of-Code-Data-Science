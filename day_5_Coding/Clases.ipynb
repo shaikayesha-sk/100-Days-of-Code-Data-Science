{
  "nbformat": 4,
  "nbformat_minor": 0,
  "metadata": {
    "colab": {
      "provenance": []
    },
    "kernelspec": {
      "name": "python3",
      "display_name": "Python 3"
    },
    "language_info": {
      "name": "python"
    }
  },
  "cells": [
    {
      "cell_type": "markdown",
      "source": [
        "\n",
        "Instantiating a Class"
      ],
      "metadata": {
        "id": "Z3OFKCNtrBre"
      }
    },
    {
      "cell_type": "code",
      "execution_count": 9,
      "metadata": {
        "colab": {
          "base_uri": "https://localhost:8080/"
        },
        "id": "e5eDqLvskGNx",
        "outputId": "ee9aaca7-c7f3-407b-9abf-9801e6b6109b"
      },
      "outputs": [
        {
          "output_type": "stream",
          "name": "stdout",
          "text": [
            "1 Snehal\n",
            "2 Shubh\n",
            "3 Shiv\n"
          ]
        }
      ],
      "source": [
        "class Teacher:\n",
        "    def __init__(self, id:int, name:str):\n",
        "        self.id = id\n",
        "        self.name = name\n",
        "\n",
        "    def display(self):\n",
        "        print(self.id, self.name)\n",
        "\n",
        "\n",
        "emp1 = Teacher(1, 'Snehal')\n",
        "emp1.display()\n",
        "\n",
        "emp2 = Teacher(2, 'Shubh')\n",
        "emp2.display()\n",
        "\n",
        "emp3 = Teacher(3, 'Shiv')\n",
        "emp3.display()\n",
        "\n"
      ]
    },
    {
      "cell_type": "markdown",
      "source": [
        "Constructor"
      ],
      "metadata": {
        "id": "g9VVNvt8rJ6y"
      }
    },
    {
      "cell_type": "code",
      "source": [
        "class Account:\n",
        "    def __init__(self, acct:int, name:str) -> None:\n",
        "        self.acct = acct\n",
        "        self.name = name\n",
        "    def display(self) -> None:\n",
        "        print(self.acct, self.name)"
      ],
      "metadata": {
        "id": "YJOpPY3urDyE"
      },
      "execution_count": 10,
      "outputs": []
    },
    {
      "cell_type": "code",
      "source": [
        "a1 = Account(1,'Snehal')\n",
        "a1.display()"
      ],
      "metadata": {
        "colab": {
          "base_uri": "https://localhost:8080/"
        },
        "id": "ee32p4h2r3zy",
        "outputId": "ea612982-4fec-4caf-c065-be5a9379ed8f"
      },
      "execution_count": 11,
      "outputs": [
        {
          "output_type": "stream",
          "name": "stdout",
          "text": [
            "1 Snehal\n"
          ]
        }
      ]
    },
    {
      "cell_type": "markdown",
      "source": [
        "Constructor Overloading:"
      ],
      "metadata": {
        "id": "dkLjSCKar-uP"
      }
    },
    {
      "cell_type": "markdown",
      "source": [
        "The concept of \"constructor overloading\" typically refers to having multiple constructors in a class, each accepting different parameters."
      ],
      "metadata": {
        "id": "WtHcyXXgtHz9"
      }
    },
    {
      "cell_type": "code",
      "source": [
        "class teacher:\n",
        "    def __init__(self, acct:int, name:str, addr:None):\n",
        "        if addr == None:\n",
        "            self.acct = acct\n",
        "            self.name = name\n",
        "            self.addr = None\n",
        "        else:\n",
        "            self.acct = acct\n",
        "            self.name = name\n",
        "            self.addr = addr\n",
        "\n",
        "    # def __str__(self) -> str:\n",
        "    #     return f'acct={self.acct}, name={self.name}, addr={self.addr}'\n",
        "\n",
        "    def display(self):\n",
        "        print(self.acct, self.name, self.addr)\n",
        "\n",
        "# Creating an instance of teacher\n",
        "emp1 = teacher(1, 'ash', 'raipur')\n",
        "\n",
        "# Printing the object using __str__ method\n",
        "print(emp1)\n",
        "\n",
        "# Calling the display method\n",
        "emp1.display()\n"
      ],
      "metadata": {
        "colab": {
          "base_uri": "https://localhost:8080/"
        },
        "id": "XLjZfzSwtIUh",
        "outputId": "93d5ae24-87b7-4e7c-b761-d5a9eae5ea8c"
      },
      "execution_count": 16,
      "outputs": [
        {
          "output_type": "stream",
          "name": "stdout",
          "text": [
            "<__main__.teacher object at 0x7fb7a28788e0>\n",
            "1 ash raipur\n"
          ]
        }
      ]
    },
    {
      "cell_type": "markdown",
      "source": [
        "Destructor"
      ],
      "metadata": {
        "id": "G_URE7xnuwDJ"
      }
    },
    {
      "cell_type": "code",
      "source": [
        "class teacher:\n",
        "    def __init__(self, acct:int, name:str, addr:None):\n",
        "        if addr == None:\n",
        "            self.acct = acct\n",
        "            self.name = name\n",
        "            self.addr = None\n",
        "        else:\n",
        "            self.acct = acct\n",
        "            self.name = name\n",
        "            self.addr = addr\n",
        "\n",
        "    # def __str__(self) -> str:\n",
        "    #     return f'acct={self.acct}, name={self.name}, addr={self.addr}'\n",
        "\n",
        "    def __del__(self):\n",
        "        print(\"delete\")\n",
        "\n",
        "# Creating an instance of teacher\n",
        "emp1 = teacher(1, 'ash', 'raipur')\n",
        "\n",
        "# Printing the object using __str__ method\n",
        "del emp1\n",
        "\n",
        "# Calling the display method\n",
        "\n"
      ],
      "metadata": {
        "colab": {
          "base_uri": "https://localhost:8080/"
        },
        "id": "9FK3V4dar6ZK",
        "outputId": "2b5c9c52-28c3-47c3-bc58-34b982c465a0"
      },
      "execution_count": 18,
      "outputs": [
        {
          "output_type": "stream",
          "name": "stdout",
          "text": [
            "delete\n"
          ]
        }
      ]
    },
    {
      "cell_type": "markdown",
      "source": [],
      "metadata": {
        "id": "tjoMaco9r-Mq"
      }
    },
    {
      "cell_type": "code",
      "source": [
        "class A:\n",
        "    def __init__(self, bb) -> None:\n",
        "        self.bb = bb\n",
        "\n",
        "class B:\n",
        "    def __init__(self) -> None:\n",
        "        self.a = A(self)\n",
        "    def __del__(self) -> None:\n",
        "        print('Deleted...')\n",
        "\n",
        "b = B()\n"
      ],
      "metadata": {
        "id": "3dS4PruIvaW-"
      },
      "execution_count": 19,
      "outputs": []
    },
    {
      "cell_type": "markdown",
      "source": [
        "Built-in Class Attributes, Methods and Functions:"
      ],
      "metadata": {
        "id": "GqrkOA4rveli"
      }
    },
    {
      "cell_type": "code",
      "source": [
        "class Account:\n",
        "    '''Create Account Class'''\n",
        "    def __init__(self, acct:int, name:str) -> None:\n",
        "        self.acct = acct\n",
        "        self.name = name\n",
        "        print('Object created..')\n",
        "\n",
        "acct1 = Account(1, 'Snehal')\n",
        "acct2 = Account(2, 'Kal')\n",
        "\n",
        "print(Account.__bases__)\n",
        "print(Account.__dict__)\n",
        "print(Account.__doc__)\n",
        "print(Account.__module__)\n",
        "print(Account.__name__)\n",
        "# print(acct1.__name__)\n",
        "\n",
        "print(Account.__annotations__)\n",
        "\n",
        "\n",
        "print(acct1.__setattr__('addr', 'sarud'))\n",
        "print(acct1.__getstate__())\n",
        "print(acct2.__getstate__())"
      ],
      "metadata": {
        "colab": {
          "base_uri": "https://localhost:8080/",
          "height": 378
        },
        "id": "WNsGjCEhvfAp",
        "outputId": "c9598f0d-9701-406e-bcc0-d054751f35b1"
      },
      "execution_count": 20,
      "outputs": [
        {
          "output_type": "stream",
          "name": "stdout",
          "text": [
            "Object created..\n",
            "Object created..\n",
            "(<class 'object'>,)\n",
            "{'__module__': '__main__', '__doc__': 'Create Account Class', '__init__': <function Account.__init__ at 0x7fb7a285b880>, '__dict__': <attribute '__dict__' of 'Account' objects>, '__weakref__': <attribute '__weakref__' of 'Account' objects>}\n",
            "Create Account Class\n",
            "__main__\n",
            "Account\n",
            "{}\n",
            "None\n"
          ]
        },
        {
          "output_type": "error",
          "ename": "AttributeError",
          "evalue": "'Account' object has no attribute '__getstate__'",
          "traceback": [
            "\u001b[0;31m---------------------------------------------------------------------------\u001b[0m",
            "\u001b[0;31mAttributeError\u001b[0m                            Traceback (most recent call last)",
            "\u001b[0;32m<ipython-input-20-faf07e25bb48>\u001b[0m in \u001b[0;36m<cell line: 22>\u001b[0;34m()\u001b[0m\n\u001b[1;32m     20\u001b[0m \u001b[0;34m\u001b[0m\u001b[0m\n\u001b[1;32m     21\u001b[0m \u001b[0mprint\u001b[0m\u001b[0;34m(\u001b[0m\u001b[0macct1\u001b[0m\u001b[0;34m.\u001b[0m\u001b[0m__setattr__\u001b[0m\u001b[0;34m(\u001b[0m\u001b[0;34m'addr'\u001b[0m\u001b[0;34m,\u001b[0m \u001b[0;34m'sarud'\u001b[0m\u001b[0;34m)\u001b[0m\u001b[0;34m)\u001b[0m\u001b[0;34m\u001b[0m\u001b[0;34m\u001b[0m\u001b[0m\n\u001b[0;32m---> 22\u001b[0;31m \u001b[0mprint\u001b[0m\u001b[0;34m(\u001b[0m\u001b[0macct1\u001b[0m\u001b[0;34m.\u001b[0m\u001b[0m__getstate__\u001b[0m\u001b[0;34m(\u001b[0m\u001b[0;34m)\u001b[0m\u001b[0;34m)\u001b[0m\u001b[0;34m\u001b[0m\u001b[0;34m\u001b[0m\u001b[0m\n\u001b[0m\u001b[1;32m     23\u001b[0m \u001b[0mprint\u001b[0m\u001b[0;34m(\u001b[0m\u001b[0macct2\u001b[0m\u001b[0;34m.\u001b[0m\u001b[0m__getstate__\u001b[0m\u001b[0;34m(\u001b[0m\u001b[0;34m)\u001b[0m\u001b[0;34m)\u001b[0m\u001b[0;34m\u001b[0m\u001b[0;34m\u001b[0m\u001b[0m\n",
            "\u001b[0;31mAttributeError\u001b[0m: 'Account' object has no attribute '__getstate__'"
          ]
        }
      ]
    },
    {
      "cell_type": "markdown",
      "source": [
        "Built-in Class Functions:"
      ],
      "metadata": {
        "id": "_tbcNERC08a2"
      }
    },
    {
      "cell_type": "markdown",
      "source": [
        "Class vs Static Variables and Methods"
      ],
      "metadata": {
        "id": "pl_8JqnR1nYV"
      }
    },
    {
      "cell_type": "code",
      "source": [
        "class Account:\n",
        "    '''Create Account Class'''\n",
        "    count = 0\n",
        "    acct_type = 'Saving'\n",
        "\n",
        "    def __init__(self, acct:int, name:str) -> None:\n",
        "        self.acct = acct\n",
        "        self.name = name\n",
        "        Account.count += 1\n",
        "        # print('Object created..')\n",
        "    # def __str__(self) -> str:\n",
        "    #     st = f'Count:{Account.count}, Type:{Account.acct_type}'\n",
        "    #     inst = f'Acct No.:{self.acct}, Name:{self.name}'\n",
        "    #     return f'{st},\\n{inst}'\n",
        "\n",
        "acct1 = Account(11, 'Snehal')\n",
        "# print(acct1.__getstate__())\n",
        "# print(acct1.count,acct1.acct,acct1.name,acct1.acct_type)\n",
        "print(acct1)\n",
        "\n",
        "acct2 = Account(12, 'Kal')\n",
        "# print(acct2.__getstate__())\n",
        "print(acct2)\n",
        "\n",
        "acct3 = Account(13, 'Shiv')\n",
        "# print(acct3.__getstate__())\n",
        "print(acct3)\n",
        "\n",
        "acct4 = Account(14, 'Shubh')\n",
        "# print(acct4.__getstate__())\n",
        "print(acct4)\n",
        "\n",
        "print('Accounts:', Account.count)"
      ],
      "metadata": {
        "colab": {
          "base_uri": "https://localhost:8080/"
        },
        "id": "PGpMat7V05Or",
        "outputId": "032b3e64-f08a-4d8e-93b5-4f356e1061ad"
      },
      "execution_count": 21,
      "outputs": [
        {
          "output_type": "stream",
          "name": "stdout",
          "text": [
            "<__main__.Account object at 0x7fb7a287aef0>\n",
            "<__main__.Account object at 0x7fb7a287bbe0>\n",
            "<__main__.Account object at 0x7fb7a2879e70>\n",
            "<__main__.Account object at 0x7fb7a287bd30>\n",
            "Accounts: 4\n"
          ]
        }
      ]
    },
    {
      "cell_type": "markdown",
      "source": [
        ". Class and Static Methods"
      ],
      "metadata": {
        "id": "-acLOIq42OPH"
      }
    },
    {
      "cell_type": "code",
      "source": [
        "class Account:\n",
        "    '''Create Account Class'''\n",
        "    count = 0\n",
        "    acct_type = 'Saving'\n",
        "    # Instance method\n",
        "    def __init__(self, acct:int, name:str) -> None:\n",
        "        self.acct = acct\n",
        "        self.name = name\n",
        "        Account.count += 1\n",
        "    def set_name(self: Account, name:str) -> None:\n",
        "        self.name = name\n",
        "    @classmethod\n",
        "    def get_count(cls) -> int:\n",
        "        return cls.count\n",
        "    @staticmethod\n",
        "    def get_type() -> str:\n",
        "        return Account.acct_type\n",
        "\n",
        "acct1 = Account(1, 'Snehal')\n",
        "print(Account.get_count())\n",
        "Account.set_name(acct1, name='Shubh')\n",
        "print(acct1.get_count())\n",
        "\n",
        "print(Account.get_type())\n",
        "print(acct1.get_type())"
      ],
      "metadata": {
        "colab": {
          "base_uri": "https://localhost:8080/"
        },
        "id": "oy8IG6Hs2LQv",
        "outputId": "afdeee37-8f6b-4eae-dc0c-af1bfcfa773c"
      },
      "execution_count": 22,
      "outputs": [
        {
          "output_type": "stream",
          "name": "stdout",
          "text": [
            "1\n",
            "1\n",
            "Saving\n",
            "Saving\n"
          ]
        }
      ]
    }
  ]
}