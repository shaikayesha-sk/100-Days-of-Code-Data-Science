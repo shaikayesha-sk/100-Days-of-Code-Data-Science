{
  "nbformat": 4,
  "nbformat_minor": 0,
  "metadata": {
    "colab": {
      "provenance": []
    },
    "kernelspec": {
      "name": "python3",
      "display_name": "Python 3"
    },
    "language_info": {
      "name": "python"
    }
  },
  "cells": [
    {
      "cell_type": "markdown",
      "source": [
        "Open a file:"
      ],
      "metadata": {
        "id": "Y6Jg-tQm0Ldh"
      }
    },
    {
      "cell_type": "code",
      "execution_count": 4,
      "metadata": {
        "colab": {
          "base_uri": "https://localhost:8080/"
        },
        "id": "RdigJne4zlh3",
        "outputId": "eef5cca6-6553-4ea5-aabe-451a05f1bc23"
      },
      "outputs": [
        {
          "output_type": "stream",
          "name": "stdout",
          "text": [
            "opened\n"
          ]
        }
      ],
      "source": [
        "file = open(\"file.txt\",\"r\")\n",
        "if file:\n",
        " print(\"opened\")"
      ]
    },
    {
      "cell_type": "markdown",
      "source": [
        "Read or Write - Performing operations on the file:"
      ],
      "metadata": {
        "id": "P8EVqtvZ3Di4"
      }
    },
    {
      "cell_type": "code",
      "source": [
        "# a file named \"file\", will be opened with the reading mode.\n",
        "file = open('file.txt', 'r')\n",
        "\n",
        "# This will print every line one by one in the file\n",
        "for each in file:\n",
        "\tprint (each)"
      ],
      "metadata": {
        "colab": {
          "base_uri": "https://localhost:8080/"
        },
        "id": "TM_icjS93EQu",
        "outputId": "d4f37543-0b8c-42d1-e3f0-4004a6041027"
      },
      "execution_count": 5,
      "outputs": [
        {
          "output_type": "stream",
          "name": "stdout",
          "text": [
            "Writing new text to the file..\n",
            "\n",
            "With the help of the with keyword..\n",
            "\n",
            "Then closing the file..\n",
            "\n",
            "Appending new data to the file..\n",
            "\n",
            "Without overwriting the file..\n",
            "\n"
          ]
        }
      ]
    },
    {
      "cell_type": "markdown",
      "source": [
        "read():"
      ],
      "metadata": {
        "id": "CgfmY0VL3N7-"
      }
    },
    {
      "cell_type": "code",
      "source": [
        "file = open(\"file.txt\",\"r\")\n",
        "print(file.read())"
      ],
      "metadata": {
        "colab": {
          "base_uri": "https://localhost:8080/"
        },
        "id": "vqgOv55r3OqU",
        "outputId": "8b13d5f9-d72f-4428-a758-c48b7edd6133"
      },
      "execution_count": 6,
      "outputs": [
        {
          "output_type": "stream",
          "name": "stdout",
          "text": [
            "Writing new text to the file..\n",
            "With the help of the with keyword..\n",
            "Then closing the file..\n",
            "Appending new data to the file..\n",
            "Without overwriting the file..\n",
            "\n"
          ]
        }
      ]
    },
    {
      "cell_type": "markdown",
      "source": [
        "read() and with operator:"
      ],
      "metadata": {
        "id": "YjDkNuaF3Wuu"
      }
    },
    {
      "cell_type": "code",
      "source": [
        "with open('file.txt', 'r') as file:\n",
        "    print(file.read())"
      ],
      "metadata": {
        "colab": {
          "base_uri": "https://localhost:8080/"
        },
        "id": "RuK_J3_v3XQl",
        "outputId": "b12f2136-7cd3-42ba-f5fd-2791c4103ae6"
      },
      "execution_count": 7,
      "outputs": [
        {
          "output_type": "stream",
          "name": "stdout",
          "text": [
            "Writing new text to the file..\n",
            "With the help of the with keyword..\n",
            "Then closing the file..\n",
            "Appending new data to the file..\n",
            "Without overwriting the file..\n",
            "\n"
          ]
        }
      ]
    },
    {
      "cell_type": "markdown",
      "source": [
        "\n",
        "In Python, read() is a method used to read data from a file. It's commonly used in conjunction with the open() function to open a file for reading. The with statement is used to automatically close the file after it's been read. This is beneficial because it ensures that the file is properly closed, even if an exception occurs while reading the file."
      ],
      "metadata": {
        "id": "aGwzT4933jbv"
      }
    },
    {
      "cell_type": "markdown",
      "source": [
        "read() specific number of characters only:"
      ],
      "metadata": {
        "id": "jJa0O3iY3mLw"
      }
    },
    {
      "cell_type": "code",
      "source": [
        "with open('file.txt', 'r') as file:\n",
        "    print(file.read(1))"
      ],
      "metadata": {
        "colab": {
          "base_uri": "https://localhost:8080/"
        },
        "id": "l9kxgARo3kPz",
        "outputId": "b10496d7-166a-4ad7-d7af-9c4ab514634f"
      },
      "execution_count": 8,
      "outputs": [
        {
          "output_type": "stream",
          "name": "stdout",
          "text": [
            "W\n"
          ]
        }
      ]
    },
    {
      "cell_type": "code",
      "source": [
        "with open('file.txt', 'r') as file:\n",
        "    print(file.readline())\n",
        "    print(file.readline())\n",
        "    print(file.readline())\n",
        "\n",
        "file.close()"
      ],
      "metadata": {
        "colab": {
          "base_uri": "https://localhost:8080/"
        },
        "id": "ebddf9A33ufA",
        "outputId": "f6e09344-2fb8-4209-c0c3-013f01c7a0c5"
      },
      "execution_count": 9,
      "outputs": [
        {
          "output_type": "stream",
          "name": "stdout",
          "text": [
            "Writing new text to the file..\n",
            "\n",
            "With the help of the with keyword..\n",
            "\n",
            "Then closing the file..\n",
            "\n"
          ]
        }
      ]
    },
    {
      "cell_type": "markdown",
      "source": [
        "readline() using loop:"
      ],
      "metadata": {
        "id": "l2piMsC73yco"
      }
    },
    {
      "cell_type": "code",
      "source": [
        "file = open('file.txt', 'r')\n",
        "\n",
        "line = file.readline()\n",
        "\n",
        "while line:\n",
        "    print(line)\n",
        "    line = file.readline()\n",
        "\n",
        "file.close()"
      ],
      "metadata": {
        "colab": {
          "base_uri": "https://localhost:8080/"
        },
        "id": "RkKsRNax3y5k",
        "outputId": "2d63f973-b6ad-4c3a-8546-b72323f59857"
      },
      "execution_count": 10,
      "outputs": [
        {
          "output_type": "stream",
          "name": "stdout",
          "text": [
            "Writing new text to the file..\n",
            "\n",
            "With the help of the with keyword..\n",
            "\n",
            "Then closing the file..\n",
            "\n",
            "Appending new data to the file..\n",
            "\n",
            "Without overwriting the file..\n",
            "\n"
          ]
        }
      ]
    },
    {
      "cell_type": "code",
      "source": [
        "# Open the file in read mode using 'with' statement\n",
        "with open('file.txt', 'r') as file:\n",
        "    # Iterate over each line in the file\n",
        "    for line in file:\n",
        "        # Print each line\n",
        "        print(line.strip())\n",
        "          # Using strip() to remove any trailing whitespace\n",
        "file.close()"
      ],
      "metadata": {
        "colab": {
          "base_uri": "https://localhost:8080/"
        },
        "id": "eaGpD7-P4HEx",
        "outputId": "521892ed-388c-48a4-ecde-5ab3dc8a049f"
      },
      "execution_count": 11,
      "outputs": [
        {
          "output_type": "stream",
          "name": "stdout",
          "text": [
            "Writing new text to the file..\n",
            "With the help of the with keyword..\n",
            "Then closing the file..\n",
            "Appending new data to the file..\n",
            "Without overwriting the file..\n"
          ]
        }
      ]
    },
    {
      "cell_type": "markdown",
      "source": [
        "readlines():"
      ],
      "metadata": {
        "id": "f932bVzB4RCc"
      }
    },
    {
      "cell_type": "code",
      "source": [
        "with open('file.txt', 'r') as file:\n",
        "    data = file.readlines()\n",
        "    print(data)\n",
        "    for i in data:\n",
        "        print(i.split())\n",
        "\n",
        "file.close()"
      ],
      "metadata": {
        "colab": {
          "base_uri": "https://localhost:8080/"
        },
        "id": "nQMCU6_n4RgY",
        "outputId": "76e4ff79-3277-4346-a2ce-634a785625dd"
      },
      "execution_count": 12,
      "outputs": [
        {
          "output_type": "stream",
          "name": "stdout",
          "text": [
            "['Writing new text to the file..\\n', 'With the help of the with keyword..\\n', 'Then closing the file..\\n', 'Appending new data to the file..\\n', 'Without overwriting the file..\\n']\n",
            "['Writing', 'new', 'text', 'to', 'the', 'file..']\n",
            "['With', 'the', 'help', 'of', 'the', 'with', 'keyword..']\n",
            "['Then', 'closing', 'the', 'file..']\n",
            "['Appending', 'new', 'data', 'to', 'the', 'file..']\n",
            "['Without', 'overwriting', 'the', 'file..']\n"
          ]
        }
      ]
    },
    {
      "cell_type": "markdown",
      "source": [
        "write():"
      ],
      "metadata": {
        "id": "zFhrlhZ64hiJ"
      }
    },
    {
      "cell_type": "code",
      "source": [
        "# Python code to create a file\n",
        "file = open('write.txt','w')\n",
        "file.write(\"This is write command\")\n",
        "file.write(\"\\nWrite in a the file\")\n",
        "file.close()"
      ],
      "metadata": {
        "id": "2plKhRjM4iEB"
      },
      "execution_count": 13,
      "outputs": []
    },
    {
      "cell_type": "code",
      "source": [
        "with open('write.txt', 'w') as file:\n",
        "    file.write('Writing new text to the file..\\n')\n",
        "    file.write('With the help of the with keyword..\\n')\n",
        "    file.write('Then closing the file..')\n",
        "\n",
        "file.close()"
      ],
      "metadata": {
        "id": "A-sWFygI4mYD"
      },
      "execution_count": 14,
      "outputs": []
    },
    {
      "cell_type": "code",
      "source": [
        "file = open('other_file.txt', 'w')\n",
        "lst = ['Hii,\\n', 'Hello\\n', 'How are you doing\\n']\n",
        "file.writelines(lst)\n",
        "file.close()\n",
        "# file = open('other_file.txt', 'w'): Opens the file 'other_file.txt' in write mode ('w'). If the file doesn't exist, it will be created. If it does exist, its contents will be overwritten. The file object is assigned to the variable file.\n",
        "\n",
        "# lst = ['Hii,\\n', 'Hello\\n', 'How are you doing\\n']: Defines a list named lst containing three strings, each representing a line of text. The strings end with a newline character ('\\n'), indicating the end of each line.\n",
        "\n",
        "# file.writelines(lst): Writes the contents of the list lst to the file opened earlier. Each element of the list is written to the file as a separate line.\n",
        "\n",
        "# file.close(): Closes the file after writing the contents. This is important to ensure that all data is properly flushed and that system resources are released."
      ],
      "metadata": {
        "id": "UtMsPly54qkz"
      },
      "execution_count": 16,
      "outputs": []
    },
    {
      "cell_type": "code",
      "source": [
        "file = open('write.txt', 'a')\n",
        "file.write('\\nAppending to the file..\\n')\n",
        "file.write('Without overwriting..\\n')\n",
        "\n",
        "file.close()"
      ],
      "metadata": {
        "id": "42tEyUbC45xt"
      },
      "execution_count": 17,
      "outputs": []
    },
    {
      "cell_type": "markdown",
      "source": [
        "Close the File:"
      ],
      "metadata": {
        "id": "rsLyE6qv5ALm"
      }
    },
    {
      "cell_type": "code",
      "source": [
        "# opens the file file.txt in read mode\n",
        "fileptr = open(\"geek.txt\",\"r\")\n",
        "\n",
        "if fileptr:\n",
        "    print(\"file is opened successfully\")\n",
        "\n",
        "print(fileptr.closed)\n",
        "#closes the opened file\n",
        "fileptr.close()\n",
        "print(fileptr.closed)"
      ],
      "metadata": {
        "colab": {
          "base_uri": "https://localhost:8080/"
        },
        "id": "cUTzQYtV5ApS",
        "outputId": "6f116758-221e-48ec-9e72-bb12ead4d29f"
      },
      "execution_count": 18,
      "outputs": [
        {
          "output_type": "stream",
          "name": "stdout",
          "text": [
            "file is opened successfully\n",
            "False\n",
            "True\n"
          ]
        }
      ]
    },
    {
      "cell_type": "markdown",
      "source": [
        "using try-finally Block to Perform file Operations:"
      ],
      "metadata": {
        "id": "wuSvhYRX5ImJ"
      }
    },
    {
      "cell_type": "code",
      "source": [
        "try:\n",
        "    fileptr = open(\"g.txt\", 'r')\n",
        "    # perform file operations\n",
        "except FileNotFoundError:\n",
        "    print(FileNotFoundError.__doc__)\n",
        "finally:\n",
        "    fileptr.close()"
      ],
      "metadata": {
        "colab": {
          "base_uri": "https://localhost:8080/"
        },
        "id": "pe7e4Tyi5LQd",
        "outputId": "a1b21195-9f59-4dcf-df62-c3efebe8c029"
      },
      "execution_count": 19,
      "outputs": [
        {
          "output_type": "stream",
          "name": "stdout",
          "text": [
            "File not found.\n"
          ]
        }
      ]
    },
    {
      "cell_type": "code",
      "source": [
        "file = open('geek.txt', 'r')\n",
        "print(file)"
      ],
      "metadata": {
        "colab": {
          "base_uri": "https://localhost:8080/"
        },
        "id": "ku6LMoRA5Quc",
        "outputId": "f4ebb243-c7c5-4adc-80e5-a69693fa72c6"
      },
      "execution_count": 20,
      "outputs": [
        {
          "output_type": "stream",
          "name": "stdout",
          "text": [
            "<_io.TextIOWrapper name='geek.txt' mode='r' encoding='UTF-8'>\n"
          ]
        }
      ]
    },
    {
      "cell_type": "markdown",
      "source": [
        "OS Module Operations:"
      ],
      "metadata": {
        "id": "VL3mjeFw5Tjb"
      }
    },
    {
      "cell_type": "code",
      "source": [
        "import os\n",
        "\n",
        "os.rename('geek.txt', 'file.txt')"
      ],
      "metadata": {
        "id": "245yf7Vp5UEQ"
      },
      "execution_count": 21,
      "outputs": []
    },
    {
      "cell_type": "code",
      "source": [
        "nfile = open('new_file.txt', 'w')\n",
        "nfile.write('This is another file...')\n",
        "nfile.write('For demonstrating remove operation..')\n",
        "nfile.close()"
      ],
      "metadata": {
        "id": "CQgIQz2d5d32"
      },
      "execution_count": 22,
      "outputs": []
    },
    {
      "cell_type": "code",
      "source": [
        "import os\n",
        "\n",
        "os.remove('new_file.txt')"
      ],
      "metadata": {
        "id": "vikV_7up5gXu"
      },
      "execution_count": 23,
      "outputs": []
    },
    {
      "cell_type": "code",
      "source": [
        "import os\n",
        "\n",
        "os.mkdir('others')\n",
        "\n",
        "# import os: Imports the os module, which provides a portable way of using operating system-dependent functionality, such as file and directory manipulation.\n",
        "\n",
        "# os.mkdir('others'): Calls the mkdir() function from the os module, passing one argument:\n",
        "\n",
        "# The argument is the name of the directory you want to create ('others')."
      ],
      "metadata": {
        "id": "wQBx7FSn5h4n"
      },
      "execution_count": 24,
      "outputs": []
    },
    {
      "cell_type": "code",
      "source": [
        "import os\n",
        "\n",
        "os.chdir('others')\n",
        "# import os: Imports the os module, which provides a portable way of using operating system-dependent functionality, such as file and directory manipulation.\n",
        "\n",
        "# os.chdir('others'): Calls the chdir() function from the os module, passing one argument:\n",
        "\n",
        "# The argument is the path of the directory you want to change to ('others')."
      ],
      "metadata": {
        "id": "Y45FyO6L5t_o"
      },
      "execution_count": 25,
      "outputs": []
    },
    {
      "cell_type": "code",
      "source": [
        "import os\n",
        "\n",
        "os.getcwd()\n",
        "\n",
        "# The os.getcwd() function in Python is used to get the current working directory (CWD) of the Python process. Here's what your code does:\n",
        "\n",
        "# import os: Imports the os module, which provides a portable way of using operating system-dependent functionality, such as file and directory manipulation.\n",
        "\n",
        "# os.getcwd(): Calls the getcwd() function from the os module.\n",
        "\n"
      ],
      "metadata": {
        "colab": {
          "base_uri": "https://localhost:8080/",
          "height": 35
        },
        "id": "HjrLo3dz54cG",
        "outputId": "20c9bdea-468f-4afd-b5f1-7d5503be6df8"
      },
      "execution_count": 26,
      "outputs": [
        {
          "output_type": "execute_result",
          "data": {
            "text/plain": [
              "'/content/others'"
            ],
            "application/vnd.google.colaboratory.intrinsic+json": {
              "type": "string"
            }
          },
          "metadata": {},
          "execution_count": 26
        }
      ]
    },
    {
      "cell_type": "code",
      "source": [
        "import os\n",
        "\n",
        "os.rmdir('others')\n",
        "# The os.rmdir() function in Python is used to remove a directory. In your code snippet, you're attempting to remove the directory named 'others'. Here's what the code does:\n",
        "\n",
        "# import os: Imports the os module, which provides a portable way of using operating system-dependent functionality, such as file and directory manipulation.\n",
        "\n",
        "# os.rmdir('others'): Calls the rmdir() function from the os module, passing one argument:\n",
        "\n",
        "# The argument is the path of the directory you want to remove ('others')."
      ],
      "metadata": {
        "colab": {
          "base_uri": "https://localhost:8080/",
          "height": 233
        },
        "id": "M2gBd6526DWh",
        "outputId": "58d4a066-3504-4e56-e695-5ff844cd8e8d"
      },
      "execution_count": 28,
      "outputs": [
        {
          "output_type": "error",
          "ename": "FileNotFoundError",
          "evalue": "[Errno 2] No such file or directory: 'others'",
          "traceback": [
            "\u001b[0;31m---------------------------------------------------------------------------\u001b[0m",
            "\u001b[0;31mFileNotFoundError\u001b[0m                         Traceback (most recent call last)",
            "\u001b[0;32m<ipython-input-28-a012bf2575bf>\u001b[0m in \u001b[0;36m<cell line: 3>\u001b[0;34m()\u001b[0m\n\u001b[1;32m      1\u001b[0m \u001b[0;32mimport\u001b[0m \u001b[0mos\u001b[0m\u001b[0;34m\u001b[0m\u001b[0;34m\u001b[0m\u001b[0m\n\u001b[1;32m      2\u001b[0m \u001b[0;34m\u001b[0m\u001b[0m\n\u001b[0;32m----> 3\u001b[0;31m \u001b[0mos\u001b[0m\u001b[0;34m.\u001b[0m\u001b[0mrmdir\u001b[0m\u001b[0;34m(\u001b[0m\u001b[0;34m'others'\u001b[0m\u001b[0;34m)\u001b[0m\u001b[0;34m\u001b[0m\u001b[0;34m\u001b[0m\u001b[0m\n\u001b[0m\u001b[1;32m      4\u001b[0m \u001b[0;31m# The os.rmdir() function in Python is used to remove a directory. In your code snippet, you're attempting to remove the directory named 'others'. Here's what the code does:\u001b[0m\u001b[0;34m\u001b[0m\u001b[0;34m\u001b[0m\u001b[0m\n\u001b[1;32m      5\u001b[0m \u001b[0;34m\u001b[0m\u001b[0m\n",
            "\u001b[0;31mFileNotFoundError\u001b[0m: [Errno 2] No such file or directory: 'others'"
          ]
        }
      ]
    }
  ]
}