{
  "nbformat": 4,
  "nbformat_minor": 0,
  "metadata": {
    "colab": {
      "provenance": []
    },
    "kernelspec": {
      "name": "python3",
      "display_name": "Python 3"
    },
    "language_info": {
      "name": "python"
    }
  },
  "cells": [
    {
      "cell_type": "markdown",
      "source": [
        "\n",
        "In Python, an exception is an event that occurs during the execution of a program that disrupts the normal flow of the program's instructions. When an exception occurs, Python raises it, which typically halts the execution of the program unless it's handled properly.\n",
        "\n",
        "try: This block is used to enclose the code that might raise an exception.\n",
        "except: This block catches and handles exceptions that occur in the preceding try block. You can specify which type of exceptions to catch, or you can catch all exceptions using a generic except block.\n",
        "finally: This block is used to execute code whether an exception occurs or not. It's usually used for cleanup operations.\n",
        "else: This block is executed if the code in the try block doesn't raise any exceptions."
      ],
      "metadata": {
        "id": "Fzh8V-o1v6bA"
      }
    },
    {
      "cell_type": "code",
      "execution_count": 3,
      "metadata": {
        "colab": {
          "base_uri": "https://localhost:8080/"
        },
        "id": "V7gbiqgFszp6",
        "outputId": "4eb41a6d-ee87-4428-845f-9a504e6cba6f"
      },
      "outputs": [
        {
          "output_type": "stream",
          "name": "stdout",
          "text": [
            "error\n"
          ]
        }
      ],
      "source": [
        "# 1. TypeError\n",
        "x = 5\n",
        "y = \"10\"\n",
        "try:\n",
        "  z = x+y\n",
        "except:\n",
        "    print(\"error\")\n"
      ]
    },
    {
      "cell_type": "code",
      "source": [
        "# 2. IndexError: list index out of range\n",
        "# Python program to handle simple runtime error\n",
        "x = [1,2,3]\n",
        "try:\n",
        "  print(x[5])\n",
        "except:\n",
        "    print(\"index out of range\")"
      ],
      "metadata": {
        "colab": {
          "base_uri": "https://localhost:8080/"
        },
        "id": "vu1VeKy7wWZm",
        "outputId": "27359767-49f7-4db7-a620-9ed1d131de22"
      },
      "execution_count": 4,
      "outputs": [
        {
          "output_type": "stream",
          "name": "stdout",
          "text": [
            "index out of range\n"
          ]
        }
      ]
    },
    {
      "cell_type": "markdown",
      "source": [
        "Catching Specific Exception"
      ],
      "metadata": {
        "id": "TJbW6J8Iwmvr"
      }
    },
    {
      "cell_type": "code",
      "source": [
        "def func(n):\n",
        "    try:\n",
        "        d = 4 / n\n",
        "        print(d)\n",
        "    except:\n",
        "        print(\"error\")\n",
        "\n",
        "func(0)\n"
      ],
      "metadata": {
        "colab": {
          "base_uri": "https://localhost:8080/"
        },
        "id": "hZjdvFg7wnrC",
        "outputId": "61744dc3-52b1-4205-9673-298da7ccffdd"
      },
      "execution_count": 8,
      "outputs": [
        {
          "output_type": "stream",
          "name": "stdout",
          "text": [
            "error\n"
          ]
        }
      ]
    },
    {
      "cell_type": "code",
      "source": [
        "# Use of the finally keyword with try-except\n",
        "\n",
        "try:\n",
        "    d = 5/0\n",
        "except ZeroDivisionError:\n",
        "    print(ZeroDivisionError.__doc__)\n",
        "finally:\n",
        "    print('Opeatoin completed..')"
      ],
      "metadata": {
        "colab": {
          "base_uri": "https://localhost:8080/"
        },
        "id": "BIRyeu0lxiXb",
        "outputId": "71fdd4bc-9809-41e3-cdc2-a803b7b9d232"
      },
      "execution_count": 9,
      "outputs": [
        {
          "output_type": "stream",
          "name": "stdout",
          "text": [
            "Second argument to a division or modulo operation was zero.\n",
            "Opeatoin completed..\n"
          ]
        }
      ]
    },
    {
      "cell_type": "code",
      "source": [
        "# Try with else block\n",
        "\n",
        "def func(n):\n",
        "    try:\n",
        "        c = 4/n\n",
        "    except ZeroDivisionError:\n",
        "        print('Cannot divide by 0...')\n",
        "    else:\n",
        "        print(c)\n",
        "    finally:\n",
        "        print('End..')\n",
        "func(0)\n",
        "func(2)"
      ],
      "metadata": {
        "colab": {
          "base_uri": "https://localhost:8080/"
        },
        "id": "X9wv3aA6xwjN",
        "outputId": "83310aa8-e035-4caf-9e8b-9db88035b8dc"
      },
      "execution_count": 10,
      "outputs": [
        {
          "output_type": "stream",
          "name": "stdout",
          "text": [
            "Cannot divide by 0...\n",
            "End..\n",
            "2.0\n",
            "End..\n"
          ]
        }
      ]
    },
    {
      "cell_type": "markdown",
      "source": [
        "Raising User-defined Exception"
      ],
      "metadata": {
        "id": "PTi08dIRx5Cb"
      }
    },
    {
      "cell_type": "code",
      "source": [
        "def func(name):\n",
        "    try:\n",
        "        if name == 'Snehal':\n",
        "            print('Hello,',name)\n",
        "        else:\n",
        "            raise NameError(name,'not having access..')\n",
        "    except NameError:\n",
        "        print(name,'not having access..')\n",
        "        raise\n",
        "\n",
        "func('Snehal')\n",
        "func('Shubh')"
      ],
      "metadata": {
        "colab": {
          "base_uri": "https://localhost:8080/",
          "height": 341
        },
        "id": "VCY3OfjYx52y",
        "outputId": "61986a6b-5b87-452b-dfef-db2083d66afd"
      },
      "execution_count": 11,
      "outputs": [
        {
          "output_type": "stream",
          "name": "stdout",
          "text": [
            "Hello, Snehal\n",
            "Shubh not having access..\n"
          ]
        },
        {
          "output_type": "error",
          "ename": "NameError",
          "evalue": "('Shubh', 'not having access..')",
          "traceback": [
            "\u001b[0;31m---------------------------------------------------------------------------\u001b[0m",
            "\u001b[0;31mNameError\u001b[0m                                 Traceback (most recent call last)",
            "\u001b[0;32m<ipython-input-11-2fb5075c4913>\u001b[0m in \u001b[0;36m<cell line: 12>\u001b[0;34m()\u001b[0m\n\u001b[1;32m     10\u001b[0m \u001b[0;34m\u001b[0m\u001b[0m\n\u001b[1;32m     11\u001b[0m \u001b[0mfunc\u001b[0m\u001b[0;34m(\u001b[0m\u001b[0;34m'Snehal'\u001b[0m\u001b[0;34m)\u001b[0m\u001b[0;34m\u001b[0m\u001b[0;34m\u001b[0m\u001b[0m\n\u001b[0;32m---> 12\u001b[0;31m \u001b[0mfunc\u001b[0m\u001b[0;34m(\u001b[0m\u001b[0;34m'Shubh'\u001b[0m\u001b[0;34m)\u001b[0m\u001b[0;34m\u001b[0m\u001b[0;34m\u001b[0m\u001b[0m\n\u001b[0m",
            "\u001b[0;32m<ipython-input-11-2fb5075c4913>\u001b[0m in \u001b[0;36mfunc\u001b[0;34m(name)\u001b[0m\n\u001b[1;32m      4\u001b[0m             \u001b[0mprint\u001b[0m\u001b[0;34m(\u001b[0m\u001b[0;34m'Hello,'\u001b[0m\u001b[0;34m,\u001b[0m\u001b[0mname\u001b[0m\u001b[0;34m)\u001b[0m\u001b[0;34m\u001b[0m\u001b[0;34m\u001b[0m\u001b[0m\n\u001b[1;32m      5\u001b[0m         \u001b[0;32melse\u001b[0m\u001b[0;34m:\u001b[0m\u001b[0;34m\u001b[0m\u001b[0;34m\u001b[0m\u001b[0m\n\u001b[0;32m----> 6\u001b[0;31m             \u001b[0;32mraise\u001b[0m \u001b[0mNameError\u001b[0m\u001b[0;34m(\u001b[0m\u001b[0mname\u001b[0m\u001b[0;34m,\u001b[0m\u001b[0;34m'not having access..'\u001b[0m\u001b[0;34m)\u001b[0m\u001b[0;34m\u001b[0m\u001b[0;34m\u001b[0m\u001b[0m\n\u001b[0m\u001b[1;32m      7\u001b[0m     \u001b[0;32mexcept\u001b[0m \u001b[0mNameError\u001b[0m\u001b[0;34m:\u001b[0m\u001b[0;34m\u001b[0m\u001b[0;34m\u001b[0m\u001b[0m\n\u001b[1;32m      8\u001b[0m         \u001b[0mprint\u001b[0m\u001b[0;34m(\u001b[0m\u001b[0mname\u001b[0m\u001b[0;34m,\u001b[0m\u001b[0;34m'not having access..'\u001b[0m\u001b[0;34m)\u001b[0m\u001b[0;34m\u001b[0m\u001b[0;34m\u001b[0m\u001b[0m\n",
            "\u001b[0;31mNameError\u001b[0m: ('Shubh', 'not having access..')"
          ]
        }
      ]
    },
    {
      "cell_type": "markdown",
      "source": [
        "\n",
        "# BaseException\n",
        "#  +-- SystemExit\n",
        "#  +-- KeyboardInterrupt\n",
        "#  +-- GeneratorExit\n",
        "#  +-- Exception\n",
        "#       +-- StopIteration\n",
        "#       +-- StandardError\n",
        "#       |    +-- BufferError\n",
        "#       |    +-- ArithmeticError\n",
        "#       |    |    +-- FloatingPointError\n",
        "#       |    |    +-- OverflowError\n",
        "#       |    |    +-- ZeroDivisionError\n",
        "#       |    +-- AssertionError\n",
        "#       |    +-- AttributeError\n",
        "#       |    +-- EnvironmentError\n",
        "#       |    |    +-- IOError\n",
        "#       |    |    +-- OSError\n",
        "#       |    |         +-- WindowsError (Windows)\n",
        "#       |    |         +-- VMSError (VMS)\n",
        "#       |    +-- EOFError\n",
        "#       |    +-- ImportError\n",
        "#       |    +-- LookupError\n",
        "#       |    |    +-- IndexError\n",
        "#       |    |    +-- KeyError\n",
        "#       |    +-- MemoryError\n",
        "#       |    +-- NameError\n",
        "#       |    |    +-- UnboundLocalError\n",
        "#       |    +-- ReferenceError\n",
        "#       |    +-- RuntimeError\n",
        "#       |    |    +-- NotImplementedError\n",
        "#       |    +-- SyntaxError\n",
        "#       |    |    +-- IndentationError\n",
        "#       |    |         +-- TabError\n",
        "#       |    +-- SystemError\n",
        "#       |    +-- TypeError\n",
        "#       |    +-- ValueError\n",
        "#       |         +-- UnicodeError\n",
        "#       |              +-- UnicodeDecodeError\n",
        "#       |              +-- UnicodeEncodeError\n",
        "#       |              +-- UnicodeTranslateError\n",
        "#       +-- Warning\n",
        "#            +-- DeprecationWarning\n",
        "#            +-- PendingDeprecationWarning\n",
        "#            +-- RuntimeWarning\n",
        "#            +-- SyntaxWarning\n",
        "#            +-- UserWarning\n",
        "#            +-- FutureWarning\n",
        "# \t   +-- ImportWarning\n",
        "# \t   +-- UnicodeWarning\n",
        "# \t   +-- BytesWarning"
      ],
      "metadata": {
        "id": "Zf2BuUAqykvC"
      }
    },
    {
      "cell_type": "markdown",
      "source": [
        "Error vs Exception\n"
      ],
      "metadata": {
        "id": "XUwZzGsByo7x"
      }
    },
    {
      "cell_type": "code",
      "source": [
        "try:\n",
        "    = 10\n",
        "except SyntaxError:\n",
        "    print(SyntaxError.__doc__)\n",
        "else:\n",
        "    # print('Nothing...')"
      ],
      "metadata": {
        "colab": {
          "base_uri": "https://localhost:8080/",
          "height": 108
        },
        "id": "q2KQspS-yj8g",
        "outputId": "dc53a7c7-610f-4313-a319-485fcad70e64"
      },
      "execution_count": 12,
      "outputs": [
        {
          "output_type": "error",
          "ename": "SyntaxError",
          "evalue": "invalid syntax (<ipython-input-12-382843699e67>, line 2)",
          "traceback": [
            "\u001b[0;36m  File \u001b[0;32m\"<ipython-input-12-382843699e67>\"\u001b[0;36m, line \u001b[0;32m2\u001b[0m\n\u001b[0;31m    = 10\u001b[0m\n\u001b[0m    ^\u001b[0m\n\u001b[0;31mSyntaxError\u001b[0m\u001b[0;31m:\u001b[0m invalid syntax\n"
          ]
        }
      ]
    },
    {
      "cell_type": "markdown",
      "source": [
        "Error:\n",
        "\n",
        "An error typically refers to a problem or issue that prevents a program from running as expected.\n",
        "\n",
        "Exception:\n",
        "\n",
        "An exception is a Python object that represents an error or exceptional condition that occurs during the execution of a program."
      ],
      "metadata": {
        "id": "5166yN2Xy4qy"
      }
    }
  ]
}