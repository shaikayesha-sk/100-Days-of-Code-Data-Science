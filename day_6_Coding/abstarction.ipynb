{
  "nbformat": 4,
  "nbformat_minor": 0,
  "metadata": {
    "colab": {
      "provenance": []
    },
    "kernelspec": {
      "name": "python3",
      "display_name": "Python 3"
    },
    "language_info": {
      "name": "python"
    }
  },
  "cells": [
    {
      "cell_type": "code",
      "execution_count": 5,
      "metadata": {
        "colab": {
          "base_uri": "https://localhost:8080/"
        },
        "id": "YSoX_nt-8tWu",
        "outputId": "6f7ed9ad-45cb-451e-8c0c-ceb2defd4eaa"
      },
      "outputs": [
        {
          "output_type": "stream",
          "name": "stdout",
          "text": [
            "worst food \n"
          ]
        }
      ],
      "source": [
        "from abc import ABC , abstractmethod\n",
        "class food(ABC):\n",
        "  @abstractmethod\n",
        "  def chocolate(self):\n",
        "    pass\n",
        "  def curry(self):\n",
        "      print(\"worst food \")\n",
        "class tasty_food(food):\n",
        "   def chocolate(self):\n",
        "     print(\"tasty\")\n",
        "   def juice(self):\n",
        "      print(\"not bad\")\n",
        "spc = tasty_food()\n",
        "spc.curry()"
      ]
    }
  ]
}