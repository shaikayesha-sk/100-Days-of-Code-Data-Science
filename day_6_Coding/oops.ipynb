{
  "nbformat": 4,
  "nbformat_minor": 0,
  "metadata": {
    "colab": {
      "provenance": []
    },
    "kernelspec": {
      "name": "python3",
      "display_name": "Python 3"
    },
    "language_info": {
      "name": "python"
    }
  },
  "cells": [
    {
      "cell_type": "markdown",
      "source": [
        "Abstraction"
      ],
      "metadata": {
        "id": "1i9tt_Lt-f4m"
      }
    },
    {
      "cell_type": "code",
      "execution_count": null,
      "metadata": {
        "colab": {
          "base_uri": "https://localhost:8080/"
        },
        "id": "YSoX_nt-8tWu",
        "outputId": "6f7ed9ad-45cb-451e-8c0c-ceb2defd4eaa"
      },
      "outputs": [
        {
          "output_type": "stream",
          "name": "stdout",
          "text": [
            "worst food \n"
          ]
        }
      ],
      "source": [
        "from abc import ABC , abstractmethod\n",
        "class food(ABC):\n",
        "  @abstractmethod\n",
        "  def chocolate(self):\n",
        "    pass\n",
        "  def curry(self):\n",
        "      print(\"worst food \")\n",
        "class tasty_food(food):\n",
        "   def chocolate(self):\n",
        "     print(\"tasty\")\n",
        "   def juice(self):\n",
        "      print(\"not bad\")\n",
        "spc = tasty_food()\n",
        "spc.curry()"
      ]
    },
    {
      "cell_type": "markdown",
      "source": [
        "Encapsulation"
      ],
      "metadata": {
        "id": "ZK7hk3NV-b6q"
      }
    },
    {
      "cell_type": "code",
      "source": [
        "#private\n",
        "class person:\n",
        "  def __init__(self,name,age):\n",
        "    self.__name = name\n",
        "    self.__age = age\n",
        "  def display(self):\n",
        "    print(f\"age of the person is {self.__name}, and age of the person is {self.__age}\")\n",
        "person = person(\"ayesha\",20)\n",
        "person.display()"
      ],
      "metadata": {
        "colab": {
          "base_uri": "https://localhost:8080/"
        },
        "id": "WRXRs3wc-fUY",
        "outputId": "ce382018-fcdd-410e-be61-2d29e3ce186a"
      },
      "execution_count": null,
      "outputs": [
        {
          "output_type": "stream",
          "name": "stdout",
          "text": [
            "age of the person is ayesha, and age of the person is 20\n"
          ]
        }
      ]
    },
    {
      "cell_type": "code",
      "source": [
        "class Person:\n",
        "    def __init__(self, name, age):\n",
        "        self._name = name\n",
        "        self._age = age\n",
        "\n",
        "class Student(Person):  # Subclassing Person\n",
        "    def __init__(self, name, age):\n",
        "        super().__init__(name, age)\n",
        "\n",
        "    def display(self):\n",
        "        print(f\"Name: {self._name}, Age: {self._age}\")\n",
        "\n",
        "# Creating an instance of Student\n",
        "student = Student(\"Ayesha\", 20)\n",
        "student.display()\n"
      ],
      "metadata": {
        "colab": {
          "base_uri": "https://localhost:8080/"
        },
        "id": "sh2xcz6fFyk4",
        "outputId": "f1abc422-d127-40d3-ed41-33791a33d132"
      },
      "execution_count": null,
      "outputs": [
        {
          "output_type": "stream",
          "name": "stdout",
          "text": [
            "Name: Ayesha, Age: 20\n"
          ]
        }
      ]
    },
    {
      "cell_type": "code",
      "source": [
        "#public\n",
        "class person:\n",
        "  def __init__(self,name,age):\n",
        "    self.name = name\n",
        "    self.age = age\n",
        "  def display(self):\n",
        "    print(f\"age of the person is {self.name}, and age of the person is {self.age}\")\n",
        "person = person(\"ayesha\",20)\n",
        "person.display()"
      ],
      "metadata": {
        "colab": {
          "base_uri": "https://localhost:8080/"
        },
        "id": "1iq35YxEF5lE",
        "outputId": "0afd34f9-effb-49fb-c71a-b0d90a6a4577"
      },
      "execution_count": null,
      "outputs": [
        {
          "output_type": "stream",
          "name": "stdout",
          "text": [
            "age of the person is ayesha, and age of the person is 20\n"
          ]
        }
      ]
    },
    {
      "cell_type": "markdown",
      "source": [
        "Inheritance"
      ],
      "metadata": {
        "id": "VgoEllrVKUnF"
      }
    },
    {
      "cell_type": "code",
      "source": [
        "class Car:\n",
        "  def __init__(self,age, name):\n",
        "    self.age=age\n",
        "    self.name=name\n",
        "\n",
        "  def display(self):\n",
        "    print(\"driving\")\n",
        "\n",
        "class  Swift(Car):\n",
        "     def __init__(self,age, name,engine):\n",
        "      super().__init__(age, name)\n",
        "      self.engine = engine\n",
        "\n",
        "swift1 = Swift(12,\"bl\",\"diesel\")\n",
        "\n",
        "print(swift1.name)"
      ],
      "metadata": {
        "colab": {
          "base_uri": "https://localhost:8080/"
        },
        "id": "_6kOkQbaKVl1",
        "outputId": "9432b06f-3243-46db-883b-fb0052385ba1"
      },
      "execution_count": null,
      "outputs": [
        {
          "output_type": "stream",
          "name": "stdout",
          "text": [
            "bl\n"
          ]
        }
      ]
    },
    {
      "cell_type": "markdown",
      "source": [
        "Multiple Inheritance"
      ],
      "metadata": {
        "id": "eLIqVBWPLspO"
      }
    },
    {
      "cell_type": "code",
      "source": [
        "# Create 2 base classes and inherit to one child class\n",
        "\n",
        "class Car:\n",
        "  def __init__(self,age, name):\n",
        "    self.age=age\n",
        "    self.name=name\n",
        "\n",
        "  def display(self):\n",
        "    print(\"driving\")\n",
        "\n",
        "class Lorry:\n",
        "  def __init__(self,speed,time):\n",
        "    self.speed = speed\n",
        "    self.time = time\n",
        "\n",
        "    def info(self):\n",
        "      print(\"very speed\")\n",
        "\n",
        "class  Swift(Car,Lorry):\n",
        "     def __init__(self,age, name, speed , time , engine):\n",
        "      Car.__init__(self, age, name)  # Initialize Car attributes\n",
        "      Lorry.__init__(self, speed, time)\n",
        "      self.engine = engine\n",
        "\n",
        "swift1 = Swift(12,\"bl\",20 , 30 ,\"diesel\")\n",
        "\n",
        "print(swift1.name)\n",
        "print(swift1.speed)"
      ],
      "metadata": {
        "colab": {
          "base_uri": "https://localhost:8080/"
        },
        "id": "Jb8YjRlLLu0B",
        "outputId": "a2163720-4c5b-43c5-d651-cd9264905d08"
      },
      "execution_count": null,
      "outputs": [
        {
          "output_type": "stream",
          "name": "stdout",
          "text": [
            "bl\n",
            "20\n"
          ]
        }
      ]
    },
    {
      "cell_type": "markdown",
      "source": [
        "3. Multilevel Inheritance :"
      ],
      "metadata": {
        "id": "QjdUxr0bNRNp"
      }
    },
    {
      "cell_type": "code",
      "source": [
        "class Parent:\n",
        "    def __init__(self, p_name: str) -> None:\n",
        "        self.p_name = p_name\n",
        "        print('Parent constructor..')\n",
        "    def get_p_name(self) -> str:\n",
        "        print('Parent class name..', self.p_name)\n",
        "        return self.p_name\n",
        "\n",
        "\n",
        "class Child(Parent):\n",
        "    def __init__(self, p_name: str, c_name) -> None:\n",
        "        super().__init__(p_name)\n",
        "        self.c_name = c_name\n",
        "        print('Child constructor..')\n",
        "    def get_c_name(self) -> str:\n",
        "        print('Child class name..', self.c_name)\n",
        "        return self.c_name\n",
        "\n",
        "\n",
        "class GrandChild(Child):\n",
        "    def __init__(self, p_name: str, c_name, g_name) -> None:\n",
        "        super().__init__(p_name, c_name)\n",
        "        self.g_name = g_name\n",
        "        print('GrandChild constructor..')\n",
        "    def get_g_name(self) -> str:\n",
        "        print('GrandChild class name..', self.g_name)\n",
        "        return self.g_name\n",
        "    def get(self) -> str:\n",
        "        return super().get_p_name()\n",
        "\n",
        "\n",
        "g = GrandChild('mankar', 'sanjay', 'snehal')\n",
        "g.get_p_name()\n",
        "g.get_c_name()\n",
        "g.get_g_name()\n",
        "g.get()"
      ],
      "metadata": {
        "id": "pXb3CGeeNR5Z"
      },
      "execution_count": null,
      "outputs": []
    },
    {
      "cell_type": "markdown",
      "source": [
        "4. Hierarchical Inheritance:"
      ],
      "metadata": {
        "id": "H3_liUrzNUTS"
      }
    },
    {
      "cell_type": "code",
      "source": [
        "# More than one derived class can be created from a single base.\n",
        "class Person:\n",
        "    def __init__(self, id: int, name: str) -> None:\n",
        "        self.id = id\n",
        "        self.name = name\n",
        "\n",
        "class Teacher(Person):\n",
        "    def __init__(self, id: int, name: str, salary: float) -> None:\n",
        "        super().__init__(id, name)\n",
        "        self.salary = salary\n",
        "\n",
        "class Student(Person):\n",
        "    def __init__(self, id: int, name: str, marks: float) -> None:\n",
        "        super().__init__(id, name)\n",
        "        self.marks = marks\n",
        "\n",
        "class Assistant(Person):\n",
        "    def __init__(self, id: int, name: str, dept: str) -> None:\n",
        "        super().__init__(id, name)\n",
        "        self.dept = dept\n",
        "\n",
        "class Principal(Person):\n",
        "    def __init__(self, id: int, name: str, exper: int) -> None:\n",
        "        super().__init__(id, name)\n",
        "        self.experience = exper\n",
        "\n",
        "p = Principal(1, 'Snehal', 10)\n",
        "print(p.__getstate__())\n",
        "\n",
        "a = Assistant(2, 'Shubh', 'CSE')\n",
        "print(a.__getstate__())\n",
        "\n",
        "s = Student(3, 'Kal', 89.48)\n",
        "print(s.__getstate__())\n",
        "\n",
        "t = Teacher(4, 'Shiv', 67000)\n",
        "print(t.__getstate__())"
      ],
      "metadata": {
        "id": "cEXn5wKpNaux"
      },
      "execution_count": null,
      "outputs": []
    },
    {
      "cell_type": "markdown",
      "source": [
        "5. Hybrid Inheritance:"
      ],
      "metadata": {
        "id": "zg8cqWNWNfj3"
      }
    },
    {
      "cell_type": "code",
      "source": [
        "# This form combines more than one form of inheritance.\n",
        "# Basically, it is a blend of more than one type of inheritance.\n",
        "\n",
        "class Bank:\n",
        "    def __init__(self, bank_name: str, branch: str) -> None:\n",
        "        self.bank_name = bank_name\n",
        "        self.branch = branch\n",
        "\n",
        "class Account(Bank):\n",
        "    def __init__(self, bank_name: str, branch: str, id: int) -> None:\n",
        "        super().__init__(bank_name, branch)\n",
        "        self.id = id\n",
        "\n",
        "class Savings(Account):\n",
        "    def __init__(self, bank_name: str, branch: str, id: int, duration: int, money: float) -> None:\n",
        "        super().__init__(bank_name, branch, id)\n",
        "        self.duration = duration\n",
        "        self.money = money\n",
        "\n",
        "class Current(Account):\n",
        "    def __init__(self, bank_name: str, branch: str, id: int, balance: float) -> None:\n",
        "        super().__init__(bank_name, branch, id)\n",
        "        self.balance = balance\n",
        "\n",
        "class Person:\n",
        "    def __init__(self, name: str, addr: str) -> None:\n",
        "        self.name = name\n",
        "        self.addr = addr\n",
        "\n",
        "class Savings_Holder(Person, Savings):\n",
        "    def __init__(self, name: str, addr: str, bank_name: str, branch: str, id: int, duration: int, money: float) -> None:\n",
        "        Person.__init__(self, name, addr)\n",
        "        Savings.__init__(self, bank_name, branch, id, duration, money)\n",
        "\n",
        "class Current_Holder(Person, Current):\n",
        "    def __init__(self, name: str, addr: str, bank_name: str, branch: str, id: int, balance: float) -> None:\n",
        "        Person.__init__(self, name, addr)\n",
        "        Current.__init__(self, bank_name, branch, id, balance)\n"
      ],
      "metadata": {
        "id": "fMax5teENjZO"
      },
      "execution_count": null,
      "outputs": []
    },
    {
      "cell_type": "markdown",
      "source": [
        "4. Polymorphism:"
      ],
      "metadata": {
        "id": "x5t3tMTwN4hR"
      }
    },
    {
      "cell_type": "code",
      "source": [
        "class Bird:\n",
        "    def __init__(self, name: str) -> None:\n",
        "        self.name = name\n",
        "    def flight(self) -> None:\n",
        "        print('Birds can fly, but some cannot..')\n",
        "\n",
        "class Sparrow(Bird):\n",
        "    def __init__(self, name: str) -> None:\n",
        "        super().__init__(name)\n",
        "    def flight(self) -> None:\n",
        "        super().flight()\n",
        "        print(self.name, 'can fly..')\n",
        "\n",
        "class Ostrich(Bird):\n",
        "    def __init__(self, name: str) -> None:\n",
        "        super().__init__(name)\n",
        "    def flight(self) -> None:\n",
        "        super().flight()\n",
        "        print(self.name, 'cannot fly..')\n",
        "    def flight(self, name) -> None:\n",
        "        super().flight()\n",
        "        print('Hii', name, self.name, 'cannot fly..')\n",
        "\n",
        "s = Sparrow('Sparrow')\n",
        "s.flight()\n",
        "\n",
        "p = Ostrich('Ostrich')\n",
        "# p.flight()\n",
        "# TypeError: Ostrich.flight() missing 1 required positional argument: 'name'\n",
        "p.flight('snehal')"
      ],
      "metadata": {
        "id": "9NfFcEtHNxwu"
      },
      "execution_count": null,
      "outputs": []
    },
    {
      "cell_type": "markdown",
      "source": [
        "issubclass() and isinstance():"
      ],
      "metadata": {
        "id": "Q3nbjNSZVbAt"
      }
    },
    {
      "cell_type": "code",
      "source": [
        "class A:\n",
        "    pass\n",
        "\n",
        "class B(A):\n",
        "    pass\n",
        "\n",
        "a= A()\n",
        "\n",
        "b = B()\n",
        "\n",
        "print(issubclass(A,B))\n",
        "print(issubclass(B,A))\n",
        "\n",
        "print(isinstance(a,A))\n",
        "print(isinstance(a,B))"
      ],
      "metadata": {
        "colab": {
          "base_uri": "https://localhost:8080/"
        },
        "id": "30_GfYk4Vbnf",
        "outputId": "e077cef5-5181-4baa-e1d5-5c9fb4490270"
      },
      "execution_count": 22,
      "outputs": [
        {
          "output_type": "stream",
          "name": "stdout",
          "text": [
            "False\n",
            "True\n",
            "True\n",
            "False\n"
          ]
        }
      ]
    }
  ]
}